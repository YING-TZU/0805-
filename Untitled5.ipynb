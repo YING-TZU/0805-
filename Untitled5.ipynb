{
  "nbformat": 4,
  "nbformat_minor": 0,
  "metadata": {
    "colab": {
      "provenance": [],
      "mount_file_id": "1B1ZIyNBRLxZ2Q4dd7oEre-fRQWJ3ntfV",
      "authorship_tag": "ABX9TyPAphRmkPKeG1VbRHAeW3lG",
      "include_colab_link": true
    },
    "kernelspec": {
      "name": "python3",
      "display_name": "Python 3"
    },
    "language_info": {
      "name": "python"
    }
  },
  "cells": [
    {
      "cell_type": "markdown",
      "metadata": {
        "id": "view-in-github",
        "colab_type": "text"
      },
      "source": [
        "<a href=\"https://colab.research.google.com/github/YING-TZU/0805-/blob/main/Untitled5.ipynb\" target=\"_parent\"><img src=\"https://colab.research.google.com/assets/colab-badge.svg\" alt=\"Open In Colab\"/></a>"
      ]
    },
    {
      "cell_type": "code",
      "execution_count": 4,
      "metadata": {
        "colab": {
          "base_uri": "https://localhost:8080/",
          "height": 211
        },
        "id": "6HElkJYPQRe5",
        "outputId": "88d0e2f3-dea8-45c0-9e10-ff593a078bce"
      },
      "outputs": [
        {
          "output_type": "error",
          "ename": "FileNotFoundError",
          "evalue": "[Errno 2] No such file or directory: 'cropmap.json'",
          "traceback": [
            "\u001b[0;31m---------------------------------------------------------------------------\u001b[0m",
            "\u001b[0;31mFileNotFoundError\u001b[0m                         Traceback (most recent call last)",
            "\u001b[0;32m/tmp/ipython-input-4-2462776410.py\u001b[0m in \u001b[0;36m<cell line: 0>\u001b[0;34m()\u001b[0m\n\u001b[1;32m      6\u001b[0m \u001b[0moutput_dir\u001b[0m \u001b[0;34m=\u001b[0m \u001b[0;34m\"D:\\程式\\GearOCR_Dataset/GearOCR_Dataset/images\"\u001b[0m\u001b[0;34m\u001b[0m\u001b[0;34m\u001b[0m\u001b[0m\n\u001b[1;32m      7\u001b[0m \u001b[0mlabel_dir\u001b[0m \u001b[0;34m=\u001b[0m \u001b[0;34m\"D:\\程式\\GearOCR_Dataset/GearOCR_Dataset/labels\"\u001b[0m\u001b[0;34m\u001b[0m\u001b[0;34m\u001b[0m\u001b[0m\n\u001b[0;32m----> 8\u001b[0;31m \u001b[0mcropmap\u001b[0m \u001b[0;34m=\u001b[0m \u001b[0mjson\u001b[0m\u001b[0;34m.\u001b[0m\u001b[0mload\u001b[0m\u001b[0;34m(\u001b[0m\u001b[0mopen\u001b[0m\u001b[0;34m(\u001b[0m\u001b[0;34m\"cropmap.json\"\u001b[0m\u001b[0;34m)\u001b[0m\u001b[0;34m)\u001b[0m\u001b[0;34m\u001b[0m\u001b[0;34m\u001b[0m\u001b[0m\n\u001b[0m\u001b[1;32m      9\u001b[0m \u001b[0;34m\u001b[0m\u001b[0m\n\u001b[1;32m     10\u001b[0m \u001b[0mos\u001b[0m\u001b[0;34m.\u001b[0m\u001b[0mmakedirs\u001b[0m\u001b[0;34m(\u001b[0m\u001b[0moutput_dir\u001b[0m\u001b[0;34m,\u001b[0m \u001b[0mexist_ok\u001b[0m\u001b[0;34m=\u001b[0m\u001b[0;32mTrue\u001b[0m\u001b[0;34m)\u001b[0m\u001b[0;34m\u001b[0m\u001b[0;34m\u001b[0m\u001b[0m\n",
            "\u001b[0;31mFileNotFoundError\u001b[0m: [Errno 2] No such file or directory: 'cropmap.json'"
          ]
        }
      ],
      "source": [
        "from pdf2image import convert_from_path\n",
        "from PIL import Image\n",
        "import os, json\n",
        "\n",
        "pdf_dir = \"D:\\程式\\GearOCR_Dataset/GearOCR_Dataset/fullpdf\"\n",
        "output_dir = \"D:\\程式\\GearOCR_Dataset/GearOCR_Dataset/images\"\n",
        "label_dir = \"D:\\程式\\GearOCR_Dataset/GearOCR_Dataset/labels\"\n",
        "cropmap = json.load(open(\"D:\\程式\\GearOCR_Dataset/GearOCR_Dataset/cropmap.json\"))\n",
        "\n",
        "os.makedirs(output_dir, exist_ok=True)\n",
        "os.makedirs(label_dir, exist_ok=True)\n",
        "\n",
        "for pdf_file in os.listdir(pdf_dir):\n",
        "    if not pdf_file.endswith(\".pdf\"):\n",
        "        continue\n",
        "    base_name = os.path.splitext(pdf_file)[0]\n",
        "    pages = convert_from_path(os.path.join(pdf_dir, pdf_file), dpi=300)\n",
        "\n",
        "    for idx, page in enumerate(pages):\n",
        "        for key, rect in cropmap.items():\n",
        "            x, y, w, h = rect\n",
        "            crop = page.crop((x, y, x + w, y + h))\n",
        "            img_name = f\"{base_name}_{key}.png\"\n",
        "            crop.save(os.path.join(output_dir, img_name))\n",
        "            # 建立空的文字標籤檔\n",
        "            with open(os.path.join(label_dir, img_name.replace(\".png\", \".txt\")), \"w\") as f:\n",
        "                f.write(\"\")  # 初始不填，標註時會補上"
      ]
    },
    {
      "cell_type": "code",
      "metadata": {
        "colab": {
          "base_uri": "https://localhost:8080/"
        },
        "id": "94c72642",
        "outputId": "9282b7f8-e9d1-4189-a72f-9b96813e4779"
      },
      "source": [
        "!pip install pdf2image\n",
        "!apt-get install poppler-utils"
      ],
      "execution_count": 3,
      "outputs": [
        {
          "output_type": "stream",
          "name": "stdout",
          "text": [
            "Collecting pdf2image\n",
            "  Downloading pdf2image-1.17.0-py3-none-any.whl.metadata (6.2 kB)\n",
            "Requirement already satisfied: pillow in /usr/local/lib/python3.11/dist-packages (from pdf2image) (11.2.1)\n",
            "Downloading pdf2image-1.17.0-py3-none-any.whl (11 kB)\n",
            "Installing collected packages: pdf2image\n",
            "Successfully installed pdf2image-1.17.0\n",
            "Reading package lists... Done\n",
            "Building dependency tree... Done\n",
            "Reading state information... Done\n",
            "The following NEW packages will be installed:\n",
            "  poppler-utils\n",
            "0 upgraded, 1 newly installed, 0 to remove and 35 not upgraded.\n",
            "Need to get 186 kB of archives.\n",
            "After this operation, 697 kB of additional disk space will be used.\n",
            "Get:1 http://archive.ubuntu.com/ubuntu jammy-updates/main amd64 poppler-utils amd64 22.02.0-2ubuntu0.8 [186 kB]\n",
            "Fetched 186 kB in 1s (236 kB/s)\n",
            "Selecting previously unselected package poppler-utils.\n",
            "(Reading database ... 126281 files and directories currently installed.)\n",
            "Preparing to unpack .../poppler-utils_22.02.0-2ubuntu0.8_amd64.deb ...\n",
            "Unpacking poppler-utils (22.02.0-2ubuntu0.8) ...\n",
            "Setting up poppler-utils (22.02.0-2ubuntu0.8) ...\n",
            "Processing triggers for man-db (2.10.2-1) ...\n"
          ]
        }
      ]
    },
    {
      "cell_type": "markdown",
      "metadata": {
        "id": "f0a9872a"
      },
      "source": [
        "安裝完成後，請重新執行之前的程式碼儲存格。"
      ]
    },
    {
      "cell_type": "code",
      "source": [
        "from pdf2image import convert_from_path\n",
        "from PIL import Image\n",
        "import os, json\n",
        "\n",
        "# 請確認這些路徑在 Colab 環境中是正確的\n",
        "# 您可能需要將檔案上傳到 Colab\n",
        "pdf_dir = \"D:\\程式\\GearOCR_Dataset/GearOCR_Dataset//fullpdf\"\n",
        "output_dir = \"D:\\程式\\GearOCR_Dataset/GearOCR_Dataset//images\"\n",
        "label_dir = \"D:\\程式\\GearOCR_Dataset/GearOCR_Dataset//labels\"\n",
        "cropmap_path = \"/content/cropmap.json\" # 修改這裡的路徑\n",
        "\n",
        "cropmap = json.load(open(cropmap_path))\n",
        "\n",
        "os.makedirs(output_dir, exist_ok=True)\n",
        "os.makedirs(label_dir, exist_ok=True)\n",
        "\n",
        "for pdf_file in os.listdir(pdf_dir):\n",
        "    if not pdf_file.endswith(\".pdf\"):\n",
        "        continue\n",
        "    base_name = os.path.splitext(pdf_file)[0]\n",
        "    # 請確認 poppler-utils 已經安裝\n",
        "    pages = convert_from_path(os.path.join(pdf_dir, pdf_file), dpi=300)\n",
        "\n",
        "    for idx, page in enumerate(pages):\n",
        "        for key, rect in cropmap.items():\n",
        "            x, y, w, h = rect\n",
        "            crop = page.crop((x, y, x + w, y + h))\n",
        "            img_name = f\"{base_name}_{key}.png\"\n",
        "            crop.save(os.path.join(output_dir, img_name))\n",
        "            # 建立空的文字標籤檔\n",
        "            with open(os.path.join(label_dir, img_name.replace(\".png\", \".txt\")), \"w\") as f:\n",
        "                f.write(\"\")  # 初始不填，標註時會補上"
      ],
      "metadata": {
        "colab": {
          "base_uri": "https://localhost:8080/",
          "height": 211
        },
        "id": "47hg0mizXn-2",
        "outputId": "4359e645-1a3e-4b35-b06c-96a1bd54d6f5"
      },
      "execution_count": 5,
      "outputs": [
        {
          "output_type": "error",
          "ename": "FileNotFoundError",
          "evalue": "[Errno 2] No such file or directory: 'D:\\\\程式\\\\GearOCR_Dataset/GearOCR_Dataset/cropmap.json'",
          "traceback": [
            "\u001b[0;31m---------------------------------------------------------------------------\u001b[0m",
            "\u001b[0;31mFileNotFoundError\u001b[0m                         Traceback (most recent call last)",
            "\u001b[0;32m/tmp/ipython-input-5-1140920776.py\u001b[0m in \u001b[0;36m<cell line: 0>\u001b[0;34m()\u001b[0m\n\u001b[1;32m      6\u001b[0m \u001b[0moutput_dir\u001b[0m \u001b[0;34m=\u001b[0m \u001b[0;34m\"D:\\程式\\GearOCR_Dataset/GearOCR_Dataset/images\"\u001b[0m\u001b[0;34m\u001b[0m\u001b[0;34m\u001b[0m\u001b[0m\n\u001b[1;32m      7\u001b[0m \u001b[0mlabel_dir\u001b[0m \u001b[0;34m=\u001b[0m \u001b[0;34m\"D:\\程式\\GearOCR_Dataset/GearOCR_Dataset/labels\"\u001b[0m\u001b[0;34m\u001b[0m\u001b[0;34m\u001b[0m\u001b[0m\n\u001b[0;32m----> 8\u001b[0;31m \u001b[0mcropmap\u001b[0m \u001b[0;34m=\u001b[0m \u001b[0mjson\u001b[0m\u001b[0;34m.\u001b[0m\u001b[0mload\u001b[0m\u001b[0;34m(\u001b[0m\u001b[0mopen\u001b[0m\u001b[0;34m(\u001b[0m\u001b[0;34m\"D:\\程式\\GearOCR_Dataset/GearOCR_Dataset/cropmap.json\"\u001b[0m\u001b[0;34m)\u001b[0m\u001b[0;34m)\u001b[0m\u001b[0;34m\u001b[0m\u001b[0;34m\u001b[0m\u001b[0m\n\u001b[0m\u001b[1;32m      9\u001b[0m \u001b[0;34m\u001b[0m\u001b[0m\n\u001b[1;32m     10\u001b[0m \u001b[0mos\u001b[0m\u001b[0;34m.\u001b[0m\u001b[0mmakedirs\u001b[0m\u001b[0;34m(\u001b[0m\u001b[0moutput_dir\u001b[0m\u001b[0;34m,\u001b[0m \u001b[0mexist_ok\u001b[0m\u001b[0;34m=\u001b[0m\u001b[0;32mTrue\u001b[0m\u001b[0;34m)\u001b[0m\u001b[0;34m\u001b[0m\u001b[0;34m\u001b[0m\u001b[0m\n",
            "\u001b[0;31mFileNotFoundError\u001b[0m: [Errno 2] No such file or directory: 'D:\\\\程式\\\\GearOCR_Dataset/GearOCR_Dataset/cropmap.json'"
          ]
        }
      ]
    },
    {
      "cell_type": "code",
      "metadata": {
        "colab": {
          "base_uri": "https://localhost:8080/",
          "height": 304
        },
        "id": "7eeb76c1",
        "outputId": "f129dbed-fd20-4d65-ff1f-e958e0021f6b"
      },
      "source": [
        "from google.colab import drive\n",
        "drive.mount('/content/drive')"
      ],
      "execution_count": 6,
      "outputs": [
        {
          "output_type": "error",
          "ename": "MessageError",
          "evalue": "Error: credential propagation was unsuccessful",
          "traceback": [
            "\u001b[0;31m---------------------------------------------------------------------------\u001b[0m",
            "\u001b[0;31mMessageError\u001b[0m                              Traceback (most recent call last)",
            "\u001b[0;32m/tmp/ipython-input-6-1408506528.py\u001b[0m in \u001b[0;36m<cell line: 0>\u001b[0;34m()\u001b[0m\n\u001b[1;32m      1\u001b[0m \u001b[0;32mfrom\u001b[0m \u001b[0mgoogle\u001b[0m\u001b[0;34m.\u001b[0m\u001b[0mcolab\u001b[0m \u001b[0;32mimport\u001b[0m \u001b[0mdrive\u001b[0m\u001b[0;34m\u001b[0m\u001b[0;34m\u001b[0m\u001b[0m\n\u001b[0;32m----> 2\u001b[0;31m \u001b[0mdrive\u001b[0m\u001b[0;34m.\u001b[0m\u001b[0mmount\u001b[0m\u001b[0;34m(\u001b[0m\u001b[0;34m'/content/drive'\u001b[0m\u001b[0;34m)\u001b[0m\u001b[0;34m\u001b[0m\u001b[0;34m\u001b[0m\u001b[0m\n\u001b[0m",
            "\u001b[0;32m/usr/local/lib/python3.11/dist-packages/google/colab/drive.py\u001b[0m in \u001b[0;36mmount\u001b[0;34m(mountpoint, force_remount, timeout_ms, readonly)\u001b[0m\n\u001b[1;32m     98\u001b[0m \u001b[0;32mdef\u001b[0m \u001b[0mmount\u001b[0m\u001b[0;34m(\u001b[0m\u001b[0mmountpoint\u001b[0m\u001b[0;34m,\u001b[0m \u001b[0mforce_remount\u001b[0m\u001b[0;34m=\u001b[0m\u001b[0;32mFalse\u001b[0m\u001b[0;34m,\u001b[0m \u001b[0mtimeout_ms\u001b[0m\u001b[0;34m=\u001b[0m\u001b[0;36m120000\u001b[0m\u001b[0;34m,\u001b[0m \u001b[0mreadonly\u001b[0m\u001b[0;34m=\u001b[0m\u001b[0;32mFalse\u001b[0m\u001b[0;34m)\u001b[0m\u001b[0;34m:\u001b[0m\u001b[0;34m\u001b[0m\u001b[0;34m\u001b[0m\u001b[0m\n\u001b[1;32m     99\u001b[0m   \u001b[0;34m\"\"\"Mount your Google Drive at the specified mountpoint path.\"\"\"\u001b[0m\u001b[0;34m\u001b[0m\u001b[0;34m\u001b[0m\u001b[0m\n\u001b[0;32m--> 100\u001b[0;31m   return _mount(\n\u001b[0m\u001b[1;32m    101\u001b[0m       \u001b[0mmountpoint\u001b[0m\u001b[0;34m,\u001b[0m\u001b[0;34m\u001b[0m\u001b[0;34m\u001b[0m\u001b[0m\n\u001b[1;32m    102\u001b[0m       \u001b[0mforce_remount\u001b[0m\u001b[0;34m=\u001b[0m\u001b[0mforce_remount\u001b[0m\u001b[0;34m,\u001b[0m\u001b[0;34m\u001b[0m\u001b[0;34m\u001b[0m\u001b[0m\n",
            "\u001b[0;32m/usr/local/lib/python3.11/dist-packages/google/colab/drive.py\u001b[0m in \u001b[0;36m_mount\u001b[0;34m(mountpoint, force_remount, timeout_ms, ephemeral, readonly)\u001b[0m\n\u001b[1;32m    135\u001b[0m   )\n\u001b[1;32m    136\u001b[0m   \u001b[0;32mif\u001b[0m \u001b[0mephemeral\u001b[0m\u001b[0;34m:\u001b[0m\u001b[0;34m\u001b[0m\u001b[0;34m\u001b[0m\u001b[0m\n\u001b[0;32m--> 137\u001b[0;31m     _message.blocking_request(\n\u001b[0m\u001b[1;32m    138\u001b[0m         \u001b[0;34m'request_auth'\u001b[0m\u001b[0;34m,\u001b[0m\u001b[0;34m\u001b[0m\u001b[0;34m\u001b[0m\u001b[0m\n\u001b[1;32m    139\u001b[0m         \u001b[0mrequest\u001b[0m\u001b[0;34m=\u001b[0m\u001b[0;34m{\u001b[0m\u001b[0;34m'authType'\u001b[0m\u001b[0;34m:\u001b[0m \u001b[0;34m'dfs_ephemeral'\u001b[0m\u001b[0;34m}\u001b[0m\u001b[0;34m,\u001b[0m\u001b[0;34m\u001b[0m\u001b[0;34m\u001b[0m\u001b[0m\n",
            "\u001b[0;32m/usr/local/lib/python3.11/dist-packages/google/colab/_message.py\u001b[0m in \u001b[0;36mblocking_request\u001b[0;34m(request_type, request, timeout_sec, parent)\u001b[0m\n\u001b[1;32m    174\u001b[0m       \u001b[0mrequest_type\u001b[0m\u001b[0;34m,\u001b[0m \u001b[0mrequest\u001b[0m\u001b[0;34m,\u001b[0m \u001b[0mparent\u001b[0m\u001b[0;34m=\u001b[0m\u001b[0mparent\u001b[0m\u001b[0;34m,\u001b[0m \u001b[0mexpect_reply\u001b[0m\u001b[0;34m=\u001b[0m\u001b[0;32mTrue\u001b[0m\u001b[0;34m\u001b[0m\u001b[0;34m\u001b[0m\u001b[0m\n\u001b[1;32m    175\u001b[0m   )\n\u001b[0;32m--> 176\u001b[0;31m   \u001b[0;32mreturn\u001b[0m \u001b[0mread_reply_from_input\u001b[0m\u001b[0;34m(\u001b[0m\u001b[0mrequest_id\u001b[0m\u001b[0;34m,\u001b[0m \u001b[0mtimeout_sec\u001b[0m\u001b[0;34m)\u001b[0m\u001b[0;34m\u001b[0m\u001b[0;34m\u001b[0m\u001b[0m\n\u001b[0m",
            "\u001b[0;32m/usr/local/lib/python3.11/dist-packages/google/colab/_message.py\u001b[0m in \u001b[0;36mread_reply_from_input\u001b[0;34m(message_id, timeout_sec)\u001b[0m\n\u001b[1;32m    101\u001b[0m     ):\n\u001b[1;32m    102\u001b[0m       \u001b[0;32mif\u001b[0m \u001b[0;34m'error'\u001b[0m \u001b[0;32min\u001b[0m \u001b[0mreply\u001b[0m\u001b[0;34m:\u001b[0m\u001b[0;34m\u001b[0m\u001b[0;34m\u001b[0m\u001b[0m\n\u001b[0;32m--> 103\u001b[0;31m         \u001b[0;32mraise\u001b[0m \u001b[0mMessageError\u001b[0m\u001b[0;34m(\u001b[0m\u001b[0mreply\u001b[0m\u001b[0;34m[\u001b[0m\u001b[0;34m'error'\u001b[0m\u001b[0;34m]\u001b[0m\u001b[0;34m)\u001b[0m\u001b[0;34m\u001b[0m\u001b[0;34m\u001b[0m\u001b[0m\n\u001b[0m\u001b[1;32m    104\u001b[0m       \u001b[0;32mreturn\u001b[0m \u001b[0mreply\u001b[0m\u001b[0;34m.\u001b[0m\u001b[0mget\u001b[0m\u001b[0;34m(\u001b[0m\u001b[0;34m'data'\u001b[0m\u001b[0;34m,\u001b[0m \u001b[0;32mNone\u001b[0m\u001b[0;34m)\u001b[0m\u001b[0;34m\u001b[0m\u001b[0;34m\u001b[0m\u001b[0m\n\u001b[1;32m    105\u001b[0m \u001b[0;34m\u001b[0m\u001b[0m\n",
            "\u001b[0;31mMessageError\u001b[0m: Error: credential propagation was unsuccessful"
          ]
        }
      ]
    },
    {
      "cell_type": "markdown",
      "metadata": {
        "id": "399c2187"
      },
      "source": [
        "執行上述程式碼後，會跳出一個授權視窗，請依照指示完成授權。授權完成後，您就可以在 `/content/drive/My Drive/` 路徑下存取您的 Google Drive 檔案了。"
      ]
    },
    {
      "cell_type": "code",
      "source": [
        "from pdf2image import convert_from_path\n",
        "from PIL import Image\n",
        "import os, json\n",
        "\n",
        "# 請確認這些路徑在 Colab 環境中是正確的\n",
        "# 根據 /content/ 的檔案列表，您的 PDF 檔案直接在 /content/ 下\n",
        "pdf_dir = \"/content/\"\n",
        "# 假設 cropmap.json 在 /content/ 下\n",
        "cropmap_path = \"/content/cropmap.json\"\n",
        "# 輸出資料夾設在 /content/ 下，避免和輸入混淆\n",
        "output_dir = \"/content/output_images\"\n",
        "label_dir = \"/content/output_labels\"\n",
        "\n",
        "\n",
        "try:\n",
        "    with open(cropmap_path) as f:\n",
        "        cropmap = json.load(f)\n",
        "except FileNotFoundError:\n",
        "    print(f\"錯誤：找不到 cropmap 檔案於 {cropmap_path}。請確認檔案已上傳。\")\n",
        "    # 可以選擇在此處退出或做其他處理\n",
        "    # raise # 如果您希望程式在找不到檔案時停止，可以取消註解這行\n",
        "    exit() # 暫時退出，避免後續因 cropmap 找不到而報錯\n",
        "\n",
        "os.makedirs(output_dir, exist_ok=True)\n",
        "os.makedirs(label_dir, exist_ok=True)\n",
        "\n",
        "# 檢查 pdf_dir 是否存在且有內容\n",
        "if not os.path.isdir(pdf_dir):\n",
        "    print(f\"錯誤：找不到 PDF 資料夾於 {pdf_dir}。請確認資料夾已上傳。\")\n",
        "    exit()\n",
        "\n",
        "pdf_files = [f for f in os.listdir(pdf_dir) if f.endswith(\".pdf\")]\n",
        "\n",
        "if not pdf_files:\n",
        "    print(f\"警告：在 {pdf_dir} 中找不到任何 PDF 檔案。請確認資料夾中有 PDF 檔案。\")\n",
        "\n",
        "for pdf_file in pdf_files:\n",
        "    pdf_path = os.path.join(pdf_dir, pdf_file)\n",
        "    base_name = os.path.splitext(pdf_file)[0]\n",
        "\n",
        "    try:\n",
        "        # 請確認 poppler-utils 已經安裝\n",
        "        # convert_from_path 需要指定 poppler_path，如果它不在系統的 PATH 中\n",
        "        # 在 Colab 中通常不需要，但如果在本地運行，可能需要指定\n",
        "        pages = convert_from_path(pdf_path, dpi=300)\n",
        "\n",
        "        for idx, page in enumerate(pages):\n",
        "            # 遍歷 cropmap 中的所有裁剪區域\n",
        "            for key, rect in cropmap.items():\n",
        "                # 確保 rect 是有效的列表或元組\n",
        "                if not isinstance(rect, (list, tuple)) or len(rect) != 4:\n",
        "                    print(f\"警告：cropmap 中 '{key}' 的矩形資料格式不正確: {rect}。跳過此區域。\")\n",
        "                    continue\n",
        "\n",
        "                x, y, w, h = rect\n",
        "                # 檢查矩形座標是否有效\n",
        "                if x < 0 or y < 0 or w <= 0 or h <= 0:\n",
        "                     print(f\"警告：cropmap 中 '{key}' 的矩形座標或尺寸無效: {rect}。跳過此區域。\")\n",
        "                     continue\n",
        "\n",
        "                # Pillow 的 crop 方法是 (left, upper, right, lower)\n",
        "                # rect 中的 w 和 h 是寬度和高度，所以 right = x + w, lower = y + h\n",
        "                # 確保裁剪區域不超出圖片邊界\n",
        "                img_width, img_height = page.size\n",
        "                right = min(x + w, img_width)\n",
        "                lower = min(y + h, img_height)\n",
        "                left = max(0, x)\n",
        "                upper = max(0, y)\n",
        "\n",
        "                if right <= left or lower <= upper:\n",
        "                     print(f\"警告：cropmap 中 '{key}' 的計算裁剪區域無效 ({left}, {upper}, {right}, {lower})。跳過此區域。\")\n",
        "                     continue\n",
        "\n",
        "\n",
        "                try:\n",
        "                    crop = page.crop((left, upper, right, lower))\n",
        "                    img_name = f\"{base_name}_{key}.png\"\n",
        "                    crop.save(os.path.join(output_dir, img_name))\n",
        "                    # 建立空的文字標籤檔\n",
        "                    with open(os.path.join(label_dir, img_name.replace(\".png\", \".txt\")), \"w\") as f:\n",
        "                        f.write(\"\")  # 初始不填，標註時會補上\n",
        "                except Exception as e:\n",
        "                    print(f\"處理檔案 {pdf_file} 的區域 '{key}' 時發生錯誤: {e}\")\n",
        "\n",
        "    except Exception as e:\n",
        "        print(f\"處理 PDF 檔案 {pdf_file} 時發生錯誤: {e}\")\n",
        "\n",
        "print(\"PDF 處理完成。\")"
      ],
      "metadata": {
        "colab": {
          "base_uri": "https://localhost:8080/",
          "height": 894
        },
        "collapsed": true,
        "id": "hD4YeQ8qeyh0",
        "outputId": "b39d4662-e295-44a7-80d0-6080c4543388"
      },
      "execution_count": 1,
      "outputs": [
        {
          "output_type": "stream",
          "name": "stdout",
          "text": [
            "錯誤：找不到 cropmap 檔案於 /content/cropmap.json。請確認檔案已上傳。\n",
            "處理 PDF 檔案 530 fp_230727.pdf 時發生錯誤: name 'cropmap' is not defined\n",
            "處理 PDF 檔案 AA005334 fp_RM250509.pdf 時發生錯誤: name 'cropmap' is not defined\n",
            "處理 PDF 檔案 AA005449 fp_231226.pdf 時發生錯誤: name 'cropmap' is not defined\n",
            "處理 PDF 檔案 608 fp_230831.pdf 時發生錯誤: name 'cropmap' is not defined\n",
            "處理 PDF 檔案 AA005496 fp_231226.pdf 時發生錯誤: name 'cropmap' is not defined\n",
            "處理 PDF 檔案 974 fp_231019.pdf 時發生錯誤: name 'cropmap' is not defined\n",
            "處理 PDF 檔案 199 RM_230505.pdf 時發生錯誤: name 'cropmap' is not defined\n",
            "處理 PDF 檔案 198 RM_240205.pdf 時發生錯誤: name 'cropmap' is not defined\n",
            "處理 PDF 檔案 829 fp_230908.pdf 時發生錯誤: name 'cropmap' is not defined\n",
            "處理 PDF 檔案 316 RM_230504.pdf 時發生錯誤: name 'cropmap' is not defined\n",
            "處理 PDF 檔案 852 fp_230908.pdf 時發生錯誤: name 'cropmap' is not defined\n",
            "處理 PDF 檔案 213 sh.pdf 時發生錯誤: name 'cropmap' is not defined\n",
            "處理 PDF 檔案 593 fp_230831.pdf 時發生錯誤: name 'cropmap' is not defined\n",
            "處理 PDF 檔案 757 fp_230907.pdf 時發生錯誤: name 'cropmap' is not defined\n",
            "處理 PDF 檔案 796 fp_230908.pdf 時發生錯誤: name 'cropmap' is not defined\n",
            "處理 PDF 檔案 861 fp_230908.pdf 時發生錯誤: name 'cropmap' is not defined\n",
            "處理 PDF 檔案 305_RM_240205.pdf 時發生錯誤: name 'cropmap' is not defined\n",
            "處理 PDF 檔案 470 fp_230726.pdf 時發生錯誤: name 'cropmap' is not defined\n",
            "處理 PDF 檔案 AA005393 fp_240105.pdf 時發生錯誤: name 'cropmap' is not defined\n",
            "處理 PDF 檔案 1083 fp_230923.pdf 時發生錯誤: name 'cropmap' is not defined\n",
            "處理 PDF 檔案 1031 fp_230923.pdf 時發生錯誤: name 'cropmap' is not defined\n",
            "處理 PDF 檔案 966 fp_231019.pdf 時發生錯誤: name 'cropmap' is not defined\n",
            "處理 PDF 檔案 438 fp_230726.pdf 時發生錯誤: name 'cropmap' is not defined\n",
            "處理 PDF 檔案 101 sh.pdf 時發生錯誤: name 'cropmap' is not defined\n",
            "處理 PDF 檔案 45 RM_230504.pdf 時發生錯誤: name 'cropmap' is not defined\n",
            "處理 PDF 檔案 755 fp_230907.pdf 時發生錯誤: name 'cropmap' is not defined\n",
            "處理 PDF 檔案 707 fp_230907.pdf 時發生錯誤: name 'cropmap' is not defined\n",
            "處理 PDF 檔案 93 RM_230507.pdf 時發生錯誤: name 'cropmap' is not defined\n",
            "處理 PDF 檔案 868 fp_230908.pdf 時發生錯誤: name 'cropmap' is not defined\n",
            "處理 PDF 檔案 394 fp_230726.pdf 時發生錯誤: name 'cropmap' is not defined\n"
          ]
        },
        {
          "output_type": "error",
          "ename": "KeyboardInterrupt",
          "evalue": "",
          "traceback": [
            "\u001b[0;31m---------------------------------------------------------------------------\u001b[0m",
            "\u001b[0;31mKeyboardInterrupt\u001b[0m                         Traceback (most recent call last)",
            "\u001b[0;32m/tmp/ipython-input-1-156981458.py\u001b[0m in \u001b[0;36m<cell line: 0>\u001b[0;34m()\u001b[0m\n\u001b[1;32m     43\u001b[0m         \u001b[0;31m# convert_from_path 需要指定 poppler_path，如果它不在系統的 PATH 中\u001b[0m\u001b[0;34m\u001b[0m\u001b[0;34m\u001b[0m\u001b[0m\n\u001b[1;32m     44\u001b[0m         \u001b[0;31m# 在 Colab 中通常不需要，但如果在本地運行，可能需要指定\u001b[0m\u001b[0;34m\u001b[0m\u001b[0;34m\u001b[0m\u001b[0m\n\u001b[0;32m---> 45\u001b[0;31m         \u001b[0mpages\u001b[0m \u001b[0;34m=\u001b[0m \u001b[0mconvert_from_path\u001b[0m\u001b[0;34m(\u001b[0m\u001b[0mpdf_path\u001b[0m\u001b[0;34m,\u001b[0m \u001b[0mdpi\u001b[0m\u001b[0;34m=\u001b[0m\u001b[0;36m300\u001b[0m\u001b[0;34m)\u001b[0m\u001b[0;34m\u001b[0m\u001b[0;34m\u001b[0m\u001b[0m\n\u001b[0m\u001b[1;32m     46\u001b[0m \u001b[0;34m\u001b[0m\u001b[0m\n\u001b[1;32m     47\u001b[0m         \u001b[0;32mfor\u001b[0m \u001b[0midx\u001b[0m\u001b[0;34m,\u001b[0m \u001b[0mpage\u001b[0m \u001b[0;32min\u001b[0m \u001b[0menumerate\u001b[0m\u001b[0;34m(\u001b[0m\u001b[0mpages\u001b[0m\u001b[0;34m)\u001b[0m\u001b[0;34m:\u001b[0m\u001b[0;34m\u001b[0m\u001b[0;34m\u001b[0m\u001b[0m\n",
            "\u001b[0;32m/usr/local/lib/python3.11/dist-packages/pdf2image/pdf2image.py\u001b[0m in \u001b[0;36mconvert_from_path\u001b[0;34m(pdf_path, dpi, output_folder, first_page, last_page, fmt, jpegopt, thread_count, userpw, ownerpw, use_cropbox, strict, transparent, single_file, output_file, poppler_path, grayscale, size, paths_only, use_pdftocairo, timeout, hide_annotations)\u001b[0m\n\u001b[1;32m    249\u001b[0m         \u001b[0;32mfor\u001b[0m \u001b[0muid\u001b[0m\u001b[0;34m,\u001b[0m \u001b[0mproc\u001b[0m \u001b[0;32min\u001b[0m \u001b[0mprocesses\u001b[0m\u001b[0;34m:\u001b[0m\u001b[0;34m\u001b[0m\u001b[0;34m\u001b[0m\u001b[0m\n\u001b[1;32m    250\u001b[0m             \u001b[0;32mtry\u001b[0m\u001b[0;34m:\u001b[0m\u001b[0;34m\u001b[0m\u001b[0;34m\u001b[0m\u001b[0m\n\u001b[0;32m--> 251\u001b[0;31m                 \u001b[0mdata\u001b[0m\u001b[0;34m,\u001b[0m \u001b[0merr\u001b[0m \u001b[0;34m=\u001b[0m \u001b[0mproc\u001b[0m\u001b[0;34m.\u001b[0m\u001b[0mcommunicate\u001b[0m\u001b[0;34m(\u001b[0m\u001b[0mtimeout\u001b[0m\u001b[0;34m=\u001b[0m\u001b[0mtimeout\u001b[0m\u001b[0;34m)\u001b[0m\u001b[0;34m\u001b[0m\u001b[0;34m\u001b[0m\u001b[0m\n\u001b[0m\u001b[1;32m    252\u001b[0m             \u001b[0;32mexcept\u001b[0m \u001b[0mTimeoutExpired\u001b[0m\u001b[0;34m:\u001b[0m\u001b[0;34m\u001b[0m\u001b[0;34m\u001b[0m\u001b[0m\n\u001b[1;32m    253\u001b[0m                 \u001b[0mproc\u001b[0m\u001b[0;34m.\u001b[0m\u001b[0mkill\u001b[0m\u001b[0;34m(\u001b[0m\u001b[0;34m)\u001b[0m\u001b[0;34m\u001b[0m\u001b[0;34m\u001b[0m\u001b[0m\n",
            "\u001b[0;32m/usr/lib/python3.11/subprocess.py\u001b[0m in \u001b[0;36mcommunicate\u001b[0;34m(self, input, timeout)\u001b[0m\n\u001b[1;32m   1207\u001b[0m \u001b[0;34m\u001b[0m\u001b[0m\n\u001b[1;32m   1208\u001b[0m             \u001b[0;32mtry\u001b[0m\u001b[0;34m:\u001b[0m\u001b[0;34m\u001b[0m\u001b[0;34m\u001b[0m\u001b[0m\n\u001b[0;32m-> 1209\u001b[0;31m                 \u001b[0mstdout\u001b[0m\u001b[0;34m,\u001b[0m \u001b[0mstderr\u001b[0m \u001b[0;34m=\u001b[0m \u001b[0mself\u001b[0m\u001b[0;34m.\u001b[0m\u001b[0m_communicate\u001b[0m\u001b[0;34m(\u001b[0m\u001b[0minput\u001b[0m\u001b[0;34m,\u001b[0m \u001b[0mendtime\u001b[0m\u001b[0;34m,\u001b[0m \u001b[0mtimeout\u001b[0m\u001b[0;34m)\u001b[0m\u001b[0;34m\u001b[0m\u001b[0;34m\u001b[0m\u001b[0m\n\u001b[0m\u001b[1;32m   1210\u001b[0m             \u001b[0;32mexcept\u001b[0m \u001b[0mKeyboardInterrupt\u001b[0m\u001b[0;34m:\u001b[0m\u001b[0;34m\u001b[0m\u001b[0;34m\u001b[0m\u001b[0m\n\u001b[1;32m   1211\u001b[0m                 \u001b[0;31m# https://bugs.python.org/issue25942\u001b[0m\u001b[0;34m\u001b[0m\u001b[0;34m\u001b[0m\u001b[0m\n",
            "\u001b[0;32m/usr/lib/python3.11/subprocess.py\u001b[0m in \u001b[0;36m_communicate\u001b[0;34m(self, input, endtime, orig_timeout)\u001b[0m\n\u001b[1;32m   2113\u001b[0m                             'failed to raise TimeoutExpired.')\n\u001b[1;32m   2114\u001b[0m \u001b[0;34m\u001b[0m\u001b[0m\n\u001b[0;32m-> 2115\u001b[0;31m                     \u001b[0mready\u001b[0m \u001b[0;34m=\u001b[0m \u001b[0mselector\u001b[0m\u001b[0;34m.\u001b[0m\u001b[0mselect\u001b[0m\u001b[0;34m(\u001b[0m\u001b[0mtimeout\u001b[0m\u001b[0;34m)\u001b[0m\u001b[0;34m\u001b[0m\u001b[0;34m\u001b[0m\u001b[0m\n\u001b[0m\u001b[1;32m   2116\u001b[0m                     \u001b[0mself\u001b[0m\u001b[0;34m.\u001b[0m\u001b[0m_check_timeout\u001b[0m\u001b[0;34m(\u001b[0m\u001b[0mendtime\u001b[0m\u001b[0;34m,\u001b[0m \u001b[0morig_timeout\u001b[0m\u001b[0;34m,\u001b[0m \u001b[0mstdout\u001b[0m\u001b[0;34m,\u001b[0m \u001b[0mstderr\u001b[0m\u001b[0;34m)\u001b[0m\u001b[0;34m\u001b[0m\u001b[0;34m\u001b[0m\u001b[0m\n\u001b[1;32m   2117\u001b[0m \u001b[0;34m\u001b[0m\u001b[0m\n",
            "\u001b[0;32m/usr/lib/python3.11/selectors.py\u001b[0m in \u001b[0;36mselect\u001b[0;34m(self, timeout)\u001b[0m\n\u001b[1;32m    413\u001b[0m         \u001b[0mready\u001b[0m \u001b[0;34m=\u001b[0m \u001b[0;34m[\u001b[0m\u001b[0;34m]\u001b[0m\u001b[0;34m\u001b[0m\u001b[0;34m\u001b[0m\u001b[0m\n\u001b[1;32m    414\u001b[0m         \u001b[0;32mtry\u001b[0m\u001b[0;34m:\u001b[0m\u001b[0;34m\u001b[0m\u001b[0;34m\u001b[0m\u001b[0m\n\u001b[0;32m--> 415\u001b[0;31m             \u001b[0mfd_event_list\u001b[0m \u001b[0;34m=\u001b[0m \u001b[0mself\u001b[0m\u001b[0;34m.\u001b[0m\u001b[0m_selector\u001b[0m\u001b[0;34m.\u001b[0m\u001b[0mpoll\u001b[0m\u001b[0;34m(\u001b[0m\u001b[0mtimeout\u001b[0m\u001b[0;34m)\u001b[0m\u001b[0;34m\u001b[0m\u001b[0;34m\u001b[0m\u001b[0m\n\u001b[0m\u001b[1;32m    416\u001b[0m         \u001b[0;32mexcept\u001b[0m \u001b[0mInterruptedError\u001b[0m\u001b[0;34m:\u001b[0m\u001b[0;34m\u001b[0m\u001b[0;34m\u001b[0m\u001b[0m\n\u001b[1;32m    417\u001b[0m             \u001b[0;32mreturn\u001b[0m \u001b[0mready\u001b[0m\u001b[0;34m\u001b[0m\u001b[0;34m\u001b[0m\u001b[0m\n",
            "\u001b[0;31mKeyboardInterrupt\u001b[0m: "
          ]
        }
      ]
    },
    {
      "cell_type": "code",
      "metadata": {
        "colab": {
          "base_uri": "https://localhost:8080/"
        },
        "id": "780965bb",
        "outputId": "2c9e0893-4dfc-42ca-a04c-fa569d4c31c0"
      },
      "source": [
        "import os\n",
        "print(os.listdir('/content/'))"
      ],
      "execution_count": 9,
      "outputs": [
        {
          "output_type": "stream",
          "name": "stdout",
          "text": [
            "['.config', '530 fp_230727.pdf', 'AA005334 fp_RM250509.pdf', 'AA005449 fp_231226.pdf', '608 fp_230831.pdf', 'AA005496 fp_231226.pdf', '974 fp_231019.pdf', '199 RM_230505.pdf', '198 RM_240205.pdf', '829 fp_230908.pdf', '316 RM_230504.pdf', '852 fp_230908.pdf', '213 sh.pdf', '593 fp_230831.pdf', '757 fp_230907.pdf', '796 fp_230908.pdf', '861 fp_230908.pdf', '305_RM_240205.pdf', '470 fp_230726.pdf', 'AA005393 fp_240105.pdf', '1083 fp_230923.pdf', '1031 fp_230923.pdf', '966 fp_231019.pdf', '438 fp_230726.pdf', '101 sh.pdf', '45 RM_230504.pdf', '755 fp_230907.pdf', '707 fp_230907.pdf', '93 RM_230507.pdf', '868 fp_230908.pdf', '394 fp_230726.pdf', '397 fp_RM250509.pdf', 'AA005609 fp_240105.pdf', '733 fp_230907.pdf', '814 fp_230908.pdf', '866 fp_230908.pdf', 'AA005297 fp_231127.pdf', 'AA005430 fp_240105.pdf', '128 RM_230506.pdf', '954 fp_231019.pdf', '69 RM_230507.pdf', '32 RM_230504.pdf', '595 fp_230831.pdf', '949 fp_231019.pdf', '382 fp_230726.pdf', '636 fp_230831.pdf', '200 RM_230505.pdf', '725 fp_230907.pdf', '1169 fp_230927.pdf', '92 RM_230507.pdf', '20 RM_230504.pdf', '1133 RM_240205.pdf', '510 fp_230727.pdf', 'AA005400 fp_RM250509.pdf', 'AA005292 fp_231127.pdf', '956 fp_231019.pdf', '1099 fp_230923.pdf', '1132 RM_240205.pdf', 'AA005538 fp_231227.pdf', '391 fp_230726.pdf', '123 RM_230506.pdf', 'AA005576 fp_231227.pdf', 'AA005590 fp_240105.pdf', 'AA005482 fp_231226.pdf', '1130 RM_240205.pdf', '564 fp_230831.pdf', '765 fp_230904.pdf', '378 fp_230726.pdf', '506 fp_230727.pdf', '1178 fp_230927.pdf', '948 fp_231019.pdf', '354 fp_230726.pdf', 'AA005489 fp_RM250509.pdf', '601 fp_230831.pdf', 'AA005469 fp_231226.pdf', '710 fp_230907.pdf', 'AA005460 RM_240205.pdf', '785 fp_230908.pdf', '432 fp_230726.pdf', '453 fp_230726.pdf', '247 RM_230502.pdf', '1161 fp_230927.pdf', '99 RM_230507.pdf', '729 fp_230907.pdf', '935 fp_231019.pdf', '830 fp_230908.pdf', '890 fp_231018.pdf', '1028 fp_230923.pdf', '258 RM_230502.pdf', '417 fp_230726.pdf', '330 RM_230504.pdf', '209 fp_220111.pdf', '434 fp_230726.pdf', '.ipynb_checkpoints', '493 fp_230727.pdf', '843 fp_230908.pdf', '549 fp_230831.pdf', '150 RM_230507.pdf', '870 fp_230908.pdf', '81 RM_230507.pdf', 'AA005631 fp_240105.pdf', '664 fp_230904.pdf', 'AA005339 fp_231222.pdf', '323 RM_230504.pdf', '266 RM_230502.pdf', 'AA005497 fp_231226.pdf', 'AA005335 fp_231128.pdf', '590 fp_230831.pdf', 'AA005564 fp_231227.pdf', '1187 fp_230927.pdf', 'AA005485 fp_231226.pdf', '318 RM_230504.pdf', '605 fp_230831.pdf', '161 RM_230506.pdf', 'AA005589 fp_RM250509.pdf', 'AA005296 fp_231127.pdf', 'AA005357 fp_231222.pdf', 'AA005452 fp_231227.pdf', 'AA005504 fp_231226.pdf', 'AA005348 fp_231222.pdf', 'AA005399 fp_240105.pdf', '885 fp_231018.pdf', '878 fp_231018.pdf', '400 fp_230726.pdf', '883 fp_231018.pdf', '942 fp_231019.pdf', '385 fp_230726.pdf', '1103 fp_230923.pdf', 'AA005438 fp_231226.pdf', 'AA005588 fp_240105.pdf', '1204 RM_240205.pdf', '1089 fp_230923.pdf', '262 RM_250505.pdf', 'AA005408 fp_240105.pdf', '338 RM_230504.pdf', '1081 fp_230923.pdf', '1070 fp_230923.pdf', '1154 fp_230927.pdf', 'AA005713 fp_240108.pdf', '625 fp_230831.pdf', '12 RM_240202.pdf', '791 fp_230908.pdf', '52 RM_230504.pdf', '304_RM_240205.pdf', 'AA005332 fp_231128.pdf', '556 fp_230831.pdf', '1145 fp_230923.pdf', '660 fp_230904.pdf', 'AA005681 fp_240108.pdf', 'AA005558 fp_231227.pdf', '983 fp_230921.pdf', '482-1 fp_230726.pdf', '946 fp_231019.pdf', '1117 fp_230923.pdf', '740 fp_230907.pdf', '842 fp_230908.pdf', 'AA005621 fp_240105.pdf', '789 fp_230908.pdf', '135 RM_230506.pdf', 'AA005441 fp_231226.pdf', '120 RM_230507.pdf', '226 sh.pdf', 'AA005412 fp_240105.pdf', '938 fp_231019.pdf', '331 RM_230504.pdf', '1166 fp_230927.pdf', 'AA005435 fp_240105.pdf', 'AA005487 fp_231226.pdf', 'AA005453 fp_231226.pdf', '846 fp_230908.pdf', '232 sh.pdf', '787 fp_230908.pdf', 'AA005687 fp_240105.pdf', 'AA005719 fp_240108.pdf', '351 fp_RM250509.pdf', '82 RM_230507.pdf', '125 RM_230506.pdf', '776 fp_230904.pdf', '24 RM_230504.pdf', '207 sh.pdf', '726 fp_230907.pdf', '932 fp_231019.pdf', '225 sh.pdf', '403 fp_RM250509.pdf', '146_RM0611.pdf', '141 RM_230506.pdf', 'AA005550 fp_231227.pdf', 'AA005715 fp_240108.pdf', '637 fp_230831.pdf', '928 fp_231019.pdf', '193 RM_250620.pdf', '558 fp_230831.pdf', '37 RM_230504.pdf', 'AA005388 fp_240105.pdf', '598 fp_230831.pdf', '15 RM_230504.pdf', '497 fp_230727.pdf', '671 fp_230904.pdf', 'AA005652 fp_240108.pdf', 'AA005378 fp_231222.pdf', '964 fp_231019.pdf', 'AA005316 fp_231127.pdf', 'AA005677 fp_240108.pdf', '94 sh.pdf', '658-1 fp_230904.pdf', '532 fp_230727.pdf', '824 fp_230908.pdf', '263 RM_230502.pdf', '205 RM_230504.pdf', '55 RM_230504.pdf', '108 RM_230507.pdf', 'AA005529 fp_231227.pdf', '792 fp_230908.pdf', '357 fp_RM250417.pdf', '672 fp_230904.pdf', '630-1 fp_230831.pdf', '1112 fp_230923.pdf', '1199-1 fp_230927.pdf', '1210 fp_230923.pdf', '762 fp_230904.pdf', '650 fp_230831.pdf', '379 fp_230726.pdf', '74 sh.pdf', '1144 fp_230923.pdf', 'AA005527 fp_231227.pdf', 'AA005365 fp_231222.pdf', 'AA005601 fp_240105.pdf', '426 fp_230726.pdf', '395 fp_RM250509.pdf', '1040 fp_230923.pdf', 'AA005654 fp_240108.pdf', '184 RM_230504.pdf', '620 fp_230831.pdf', '552 fp_230831.pdf', '998 fp_230923.pdf', 'AA005704 fp_240108.pdf', '1160 fp_230927.pdf', '130 RM_230506.pdf', '1033 fp_230923.pdf', '696 fp_230904.pdf', '111 RM_230507.pdf', 'AA005693 fp_240105.pdf', 'AA005407 fp_RM250509.pdf', '197 RM_230505.pdf', '887 fp_231018.pdf', '185 RM_230504.pdf', '1186 fp_230927.pdf', '891 fp_231018.pdf', '820 fp_230908.pdf', '659 fp_230904.pdf', '1121 RM_240205.pdf', '826 fp_230908.pdf', 'AA005320 fp_231127.pdf', 'AA005310 fp_231127.pdf', '905 fp_231018.pdf', '560 fp_230831.pdf', '777 fp_230904.pdf', '656 fp_230904.pdf', 'AA005394 fp_240105.pdf', '812 fp_230908.pdf', '84 RM_240202.pdf', '1064 fp_230923.pdf', 'AA005597 fp_240105.pdf', '875 fp_231018.pdf', '196 RM_230505.pdf', '59 RM_230507.pdf', '524 fp_230727.pdf', '531 fp_230727.pdf', '690 fp_230904.pdf', '444 fp_230726.pdf', '239 RM_230502.pdf', '694 fp_230904.pdf', '1045 fp_230923.pdf', 'AA005512 fp_231226.pdf', '545-1 fp_230831.pdf', 'AA005578 fp_231227.pdf', 'AA005659 fp_240108.pdf', '334 RM_230504.pdf', 'AA005321 fp_231127.pdf', 'AA005723 fp_240108.pdf', '257 RM_230502.pdf', '191 sh.pdf', '1152 fp_230927.pdf', '35 RM_230504.pdf', '597 fp_230831.pdf', '1086 fp_230923.pdf', '617 fp_230831.pdf', '314 RM_230504.pdf', '188 RM_230504.pdf', '735 fp_230907.pdf', '907 fp_231018.pdf', 'AA005542 fp_231227.pdf', '682 fp_230904.pdf', '335 RM_230504.pdf', '220 RM_230504.pdf', '170 RM_230504.pdf', '753 RM_240205.pdf', '761 fp_230904.pdf', '670 fp_230904.pdf', '215 RM_230504.pdf', 'AA005373 fp_231222.pdf', '639 fp_230831.pdf', '350 fp_RM250509.pdf', '16 RM_230504.pdf', 'AA005445 fp_231226.pdf', 'AA005420 fp_240105.pdf', '285 RM_230504.pdf', '297 sh_CS3.pdf', '43 RM_230504.pdf', '799 fp_230908.pdf', '526 fp_230727.pdf', '365 fp_RM250509.pdf', '1143 fp_230923.pdf', '612 fp_230831.pdf', '557 fp_230831.pdf', '405 fp_230726.pdf', '1010 fp_230923.pdf', '528 fp_230727.pdf', '1038 fp_230923.pdf', '1193 fp_230927.pdf', 'AA005591 fp_240105.pdf', '420 fp_230726.pdf', '822 fp_230908.pdf', 'AA005700 fp_240108.pdf', '1162 fp_230927.pdf', '1146 fp_230927.pdf', '864 fp_230908.pdf', '254 fp_RM250417.pdf', 'AA005440 fp_231226.pdf', '1142 fp_230923.pdf', '699 fp_230904.pdf', '1046 fp_230923.pdf', '547 fp_230831.pdf', '939 fp_231019.pdf', '1196 fp_230927.pdf', 'AA005336 fp_231128.pdf', 'AA005630 fp_240105.pdf', 'AA005287 fp_231127.pdf', '610 fp_230831.pdf', '310 RM_230504.pdf', '118 RM_230507.pdf', 'AA005696 fp_240105.pdf', '1014 fp_230923.pdf', '808 fp_230908.pdf', '181 sh.pdf', 'AA005668 fp_240108.pdf', '302_RM_240205.pdf', '1071 fp_230923.pdf', '105 RM_230507.pdf', '44 RM_230504.pdf', '568 fp_230831.pdf', '701 fp_230904.pdf', 'AA005513 fp_231226.pdf', '409 fp_230726.pdf', '995 fp_230923.pdf', 'AA005657 fp_240108.pdf', '475 fp_230726.pdf', '713 fp_230907.pdf', '465 fp_230726.pdf', 'AA005651 fp_240108.pdf', 'AA005620 fp_240105.pdf', '924 fp_231018.pdf', '1200 fp_230927.pdf', 'AA005476 fp_231226.pdf', '363 fp_230726.pdf', '745 RM_240205.pdf', 'AA005488 fp_231226.pdf', '1138 fp_230923.pdf', '428 RM_240205.pdf', '894 fp_231018.pdf', '255 RM_230502.pdf', '704 fp_230904.pdf', '916 fp_231018.pdf', '806 fp_230908.pdf', '1048 fp_230923.pdf', '937-1 fp_231019.pdf', '751 RM_240205.pdf', 'AA005333 fp_231128.pdf', '326_RM_240205.pdf', '1179 fp_230927.pdf', 'AA005389 fp_240105.pdf', '1001 fp_230923.pdf', '665 fp_230904.pdf', '1174 fp_230927.pdf', '738 fp_230907.pdf', '399 fp_230726.pdf', '211 sh.pdf', '1039 fp_230923.pdf', '692 fp_230904.pdf', '235 RM_230502.pdf', '1009 fp_230923.pdf', '152 RM_230507.pdf', '1092 fp_230923.pdf', '807 fp_230908.pdf', '922 fp_231018.pdf', 'AA005464 fp_231226.pdf', '356 fp_230726.pdf', '676 fp_230904.pdf', '971 fp_231019.pdf', '993 fp_230921.pdf', '47 sh.pdf', '1043 fp_230923.pdf', '88 RM_230507.pdf', '219 RM_230504.pdf', 'AA005450 fp_231226.pdf', 'AA005507 fp_231226.pdf', '1087 RM_240205.pdf', 'AA005692 fp_240105.pdf', '1209 fp_230923.pdf', '347 RM_250630.pdf', '443 fp_230726.pdf', '447 fp_230726.pdf', '535 fp_230727.pdf', 'AA005600 fp_240105.pdf', '495 fp_230727.pdf', 'AA005356 fp_231222.pdf', '282 RM_230504.pdf', '507 fp_230727.pdf', '1029 fp_230923.pdf', '999 fp_230923.pdf', '270 RM_230502.pdf', '39 RM_230504.pdf', '821 fp_230908.pdf', '464 fp_230726.pdf', 'AA005539 fp_231227.pdf', '97 RM_240202.pdf', 'AA005390 fp_240105.pdf', 'AA005641 fp_240108.pdf', '122 RM_230507.pdf', '1007 fp_230923.pdf', 'AA005646 fp_240108.pdf', '486 fp_230726.pdf', '02 sh.pdf', '33 RM_230504.pdf', '503 fp_230727.pdf', '374 fp_RM250509.pdf', '1182 fp_230927.pdf', 'AA005443 fp_231226.pdf', '788 fp_230908.pdf', 'AA005519 fp_231226.pdf', '858 fp_230908.pdf', '882 fp_231018.pdf', '1061 fp_230923.pdf', '471 fp_230726.pdf', 'AA005592 fp_240105.pdf', '440 fp_230726.pdf', '1194 fp_230927.pdf', 'AA005456 fp_231226.pdf', 'AA005643 fp_240108.pdf', '291 RM_230504.pdf', '212 RM_250502.pdf', '228 RM_240205.pdf', 'AA005699 fp_240108.pdf', '739 fp_230907.pdf', '749 fp_230907.pdf', '651-1 fp_230904.pdf', '1058 fp_230923.pdf', '884 fp_231018.pdf', '172 RM_230504.pdf', 'AA005535 fp_231227.pdf', '640 fp_230831.pdf', '996 fp_230923.pdf', 'AA005694 fp_240105.pdf', '863 fp_230908.pdf', '1123 fp_230923.pdf', '1000 fp_230923.pdf', '892 fp_231018.pdf', '1126 fp_230923.pdf', '1189 fp_230927.pdf', '194 RM_230505.pdf', '727 fp_230907.pdf', 'AA005328 fp_231127.pdf', 'AA005619 fp_240105.pdf', 'AA005678 fp_240108.pdf', 'AA005579 fp_231227.pdf', '969 fp_231019.pdf', '989 fp_230921.pdf', '663-1 fp_230904.pdf', 'AA005628 fp_240105.pdf', 'AA005406 fp_240105.pdf', '393 fp_230726.pdf', 'AA005366 fp_231222.pdf', 'AA005344 fp_231222.pdf', '345 RM_250630.pdf', '985 fp_230921.pdf', 'AA005324 fp_RM250509.pdf', '483 fp_230726.pdf', 'AA005463 fp_231227.pdf', 'AA005431 fp_240105.pdf', '414 fp_230726.pdf', '898 fp_231018.pdf', '1190 fp_230927.pdf', '19 fp_220111.pdf', 'AA005347 fp_231222.pdf', '728 fp_230907.pdf', 'AA005454 fp_231226.pdf', '746 fp_230907.pdf', '839 fp_230908.pdf', 'AA005346 fp_231222.pdf', '860 fp_230908.pdf', '869 fp_230908.pdf', '945 fp_231019.pdf', '611 fp_230831.pdf', '837 fp_230908.pdf', '1072 fp_230923.pdf', '711 fp_230907.pdf', '751 fp_230907.pdf', 'AA005645 fp_240108.pdf', 'AA005432 fp_240105.pdf', '563 fp_230831.pdf', '584 fp_230831.pdf', '1176 fp_230927.pdf', '514 fp_230727.pdf', '716 fp_230907.pdf', '1036 fp_230923.pdf', 'AA005667 fp_240108.pdf', '585 fp_230831.pdf', '1059 fp_230923.pdf', '795 fp_230908.pdf', 'AA005342 fp_231222.pdf', '657 fp_230904.pdf', '375 fp_RM250509.pdf', '268 sh.pdf', '569 fp_230831.pdf', '748 RM_240205.pdf', '264 sh.pdf', '915 fp_231018.pdf', '451-1 fp_230726.pdf', 'AA005459 fp_231226.pdf', '14 fp_RM250417.pdf', '100 RM_230507.pdf', '502 fp_230727.pdf', '1149 fp_230927.pdf', '715 fp_230907.pdf', '154 RM_230507.pdf', '811 fp_230909.pdf', 'AA005483 fp_231226.pdf', '780 fp_230905.pdf', 'AA005551 fp_231227.pdf', '955 fp_231019.pdf', 'AA005594 fp_240105.pdf', '487 fp_230726.pdf', '769 fp_230904.pdf', '970 fp_231019.pdf', '303_RM_240205.pdf', '484 fp_230726.pdf', '116 RM_230507.pdf', '1067 fp_230923.pdf', '20 sh.pdf', '429 fp_230726.pdf', '718 fp_230907.pdf', '367 fp_RM250509.pdf', '183 RM_230504.pdf', '881 fp_231018.pdf', '296 sh_CS3.pdf', '565 fp_230831.pdf', '1078 fp_230923.pdf', '79 RM_230507.pdf', 'AA005672 fp_240108.pdf', 'AA005684 fp_240108.pdf', '591 fp_230831.pdf', '604 fp_230831.pdf', 'AA005575 fp_231227.pdf', '771 fp_230904.pdf', '341 fp_230726.pdf', '723 fp_230907.pdf', '477 fp_230726.pdf', '644 fp_230831.pdf', '182 RM_230504.pdf', '927 fp_231019.pdf', '89 RM_230507.pdf', '559 fp_230831.pdf', '36 RM_230504.pdf', '20 RM_240202.pdf', '317 RM_230504.pdf', '488 fp_230726.pdf', 'AA005422 fp_240105.pdf', 'AA005586 fp_231227.pdf', '272 sh.pdf', '609 RM_240205.pdf', 'AA005516 fp_231226.pdf', '667 fp_230904.pdf', '874 fp_231018.pdf', '1068 fp_230923.pdf', 'AA005522 fp_231226.pdf', 'AA005524 fp_231226.pdf', 'AA005444 fp_231226.pdf', '613 fp_230831.pdf', '943 fp_231019.pdf', '779 fp_230905.pdf', '1069 fp_230923.pdf', '26 RM_240202.pdf', 'AA005636 fp_240105.pdf', '614 fp_230831.pdf', '298 fp_RM250417.pdf', '142 RM_230506.pdf', 'AA005577 fp_231227.pdf', '848 fp_230908.pdf', '736 fp_230907.pdf', '952 fp_231019.pdf', '325 RM_230504.pdf', '13 sh.pdf', '402 fp_230726.pdf', '202 sh.pdf', '992 fp_230921.pdf', '136 RM_230506.pdf', 'AA005563 fp_231227.pdf', '685 fp_230904.pdf', '677 fp_230904.pdf', 'AA005368 fp_231222.pdf', 'AA005437 fp_231226.pdf', 'AA005338 fp_231222.pdf', '1025 fp_230923.pdf', 'AA005688 fp_240105.pdf', '576 fp_230831.pdf', 'AA005377 fp_231222.pdf', '1183 fp_230927.pdf', '71 RM_230507.pdf', '862 fp_230908.pdf', 'AA005442 fp_231226.pdf', '329_RM_240205.pdf', '90 sh.pdf', '823 RM_240205.pdf', '504 fp_230727.pdf', '876 fp_231018.pdf', '1147 fp_230927.pdf', '110 RM_230507.pdf', '1075 fp_230923.pdf', 'AA005317 fp_231127.pdf', '11 RM_230504.pdf', 'AA005676 fp_240108.pdf', '87 RM_230507.pdf', 'AA005301 fp_231127.pdf', '217 sh.pdf', '994 fp_230923.pdf', 'AA005545 fp_231227.pdf', 'AA005665 fp_240108.pdf', '237 RM_230502.pdf', '467 fp_230726.pdf', '1015 fp_230923.pdf', '561 fp_230831.pdf', '708 fp_230907.pdf', 'AA005708 fp_240108.pdf', 'AA005547 fp_231227.pdf', '448 fp_230726.pdf', 'AA005492 fp_RM250509.pdf', '460 fp_230726.pdf', '279 sh.pdf', '794 fp_230908.pdf', '1207 fp_230923.pdf', '1188 fp_230927.pdf', 'AA005670 fp_240108.pdf', '889 fp_231018.pdf', '1097 fp_230923.pdf', 'AA005587 fp_240105.pdf', '841 fp_230908.pdf', '511 fp_230727.pdf', 'AA005585 fp_231227.pdf', '599 fp_230831.pdf', '988 fp_230921.pdf', '479 fp_230726.pdf', '80 RM_230507.pdf', 'AA005690 fp_240105.pdf', '85 RM_230507.pdf', '458 fp_230726.pdf', '933 fp_231019.pdf', '990 fp_230921.pdf', '134 RM_230507.pdf', 'AA005617 fp_240105.pdf', '1102 fp_230923.pdf', '463-1 fp_230726.pdf', '127 RM_240202.pdf', 'AA005532 fp_231227.pdf', '763 RM_240205.pdf', '433 fp_230726.pdf', '83 RM_230507.pdf', '855 fp_230908.pdf', '46 RM_230504.pdf', 'AA005656 fp_240108.pdf', '312 RM_230504.pdf', '695 fp_230904.pdf', '361 fp_230726.pdf', '683 fp_230904.pdf', '133 RM_240202.pdf', '1011 fp_230923.pdf', '1052 fp_230923.pdf', '1108 fp_230923.pdf', '517 fp_230727.pdf', '816 fp_230908.pdf', 'AA005604 fp_240105.pdf', 'AA005473 fp_231226.pdf', '301_RM_240205.pdf', '872 fp_231018.pdf', '492 fp_230727.pdf', 'AA005295 fp_231127.pdf', '847 fp_230908.pdf', 'AA005544 fp_231227.pdf', '186 RM_230504.pdf', '319 RM_240205.pdf', '987 fp_230921.pdf', '622 fp_230831.pdf', 'AA005505 fp_231226.pdf', '349 RM_250505.pdf', 'AA005556 fp_231227.pdf', '873 fp_231018.pdf', '109 RM_230507.pdf', '223 sh.pdf', '327 RM_230504.pdf', 'AA005625 fp_240105.pdf', '328_RM_240205.pdf', '662 fp_230904.pdf', '63 RM_230507.pdf', '616 fp_230831.pdf', '1151 fp_230927.pdf', 'AA005416 RM_250502.pdf', '489 fp_230726.pdf', 'AA005607 fp_240105.pdf', '515 fp_230727.pdf', '1155 fp_230927.pdf', 'AA005650 fp_240108.pdf', '190 RM_230505.pdf', '1203 fp_230923.pdf', '871 fp_231018.pdf', '242 RM_230502.pdf', '104 RM_230507.pdf', '1207 RM_240205.pdf', '29 RM_230504.pdf', 'AA005458 fp_231226.pdf', '70 RM_230507.pdf', '144_RM0611.pdf', '248 fp_RM250417.pdf', '07 sh.pdf', 'AA005559 fp_231227.pdf', '269 sh.pdf', 'AA005343 fp_231222.pdf', '75 RM_240202.pdf', '156 RM_230507.pdf', 'AA005685 fp_240108.pdf', '501 RM_240205.pdf', '737 fp_230907.pdf', '921 fp_231018.pdf', '30 RM_250620.pdf', '980 fp_231019.pdf', '287 RM_230504.pdf', '906 fp_231018.pdf', 'AA005491 fp_RM250509.pdf', '61 RM_230507.pdf', 'AA005369 fp_231222.pdf', '175 RM_230504.pdf', '114 RM_240202.pdf', 'AA005695 fp_240105.pdf', '295 sh_CS3.pdf', '519 fp_230727.pdf', 'AA005680 fp_240108.pdf', '1065 fp_230923.pdf', '49 RM_230504.pdf', '266 sh.pdf', '793 fp_230908.pdf', '1049 fp_230923.pdf', 'AA005644 fp_240108.pdf', '72 sh.pdf', '678 RM_240205.pdf', '1195 fp_230927.pdf', '442 fp_230726.pdf', '768 fp_230904.pdf', '454 fp_230726.pdf', '468 fp_230726.pdf', '280 sh.pdf', '919 fp_231018.pdf', '941 fp_231019.pdf', '1091 fp_230923.pdf', '628 fp_230831.pdf', '1047 fp_230923.pdf', '195 RM_230505.pdf', '1122 fp_230923.pdf', '689 fp_230904.pdf', '157 RM_250620.pdf', 'AA005352 fp_231222.pdf', '342 fp_RM250417.pdf', '572 fp_230831.pdf', 'AA005376 fp_231222.pdf', '309_RM_240205.pdf', 'AA005689 fp_240105.pdf', 'AA005640 fp_240108.pdf', '57 RM_230507.pdf', '1170 fp_230927.pdf', '673 fp_230904.pdf', '178 RM_230504.pdf', '322 RM_230504.pdf', '910 fp_231018.pdf', '496 fp_230727.pdf', 'AA005567 fp_231227.pdf', '747 fp_230907.pdf', '1173 fp_230927.pdf', '187 RM_230504.pdf', '1030 fp_230923.pdf', '767 fp_230904.pdf', '1114 fp_230923.pdf', '643 fp_230831.pdf', '383-1 fp_230726.pdf', '264 RM_230502.pdf', '986 fp_230921.pdf', '265 sh.pdf', '265 RM_240205.pdf', '376 fp_RM250509.pdf', '469 fp_230726.pdf', '635 fp_230831.pdf', 'AA005697 fp_240108.pdf', 'AA005474 fp_231226.pdf', '491 fp_230727.pdf', '666 RM_240205.pdf', '78 RM_230507.pdf', '1168 fp_230927.pdf', '633 fp_230831.pdf', '516 fp_230727.pdf', '973 fp_231019.pdf', 'AA005707 fp_240108.pdf', '1202 fp_230923.pdf', '1127 fp_230923.pdf', '98 RM_230507.pdf', '364 fp_RM250509.pdf', '1184 fp_230927.pdf', '512 fp_230727.pdf', '879 fp_231018.pdf', 'AA005293 fp_231127.pdf', '436 fp_230726.pdf', '313 RM_230504.pdf', 'AA005410 fp_240105.pdf', '499 fp_230727.pdf', '782 fp_230908.pdf', 'AA005709 fp_240108.pdf', 'AA005461 RM_240205.pdf', '1042 fp_230923.pdf', 'AA005360 fp_231222.pdf', '1104 fp_230923.pdf', 'AA005711 fp_240108.pdf', '131 RM_230507.pdf', '627 fp_230831.pdf', '836 fp_230908.pdf', 'AA005300 fp_231127.pdf', '301 sh_CS3.pdf', '961 fp_231019.pdf', '229 fp_230328.pdf', 'AA005299 fp_231127.pdf', 'AA005540 fp_231227.pdf', '234 sh.pdf', 'AA005355 fp_231222.pdf', '1113 fp_230923.pdf', '632 fp_230831.pdf', '315_RM_240205.pdf', '160 RM_230506.pdf', '77 RM_230507.pdf', '679 fp_230904.pdf', 'D:', 'AA005381 fp_231222.pdf', 'AA005717 fp_240108.pdf', '1139 fp_230923.pdf', '04 sh.pdf', '930 fp_231019.pdf', '102 RM_230507.pdf', 'AA005639 fp_240108.pdf', '621-1 fp_230831.pdf', 'AA005623 fp_240105.pdf', '539 fp_230727.pdf', '1073 fp_230923.pdf', 'AA005528 fp_231227.pdf', '22 RM_240202.pdf', '1116 RM_240205.pdf', '267 fp_RM250417.pdf', '1024 fp_230923.pdf', '1150 fp_230927.pdf', '421 fp_230726.pdf', '427 fp_230726.pdf', '283 RM_230504.pdf', '21 sh.pdf', '851 fp_230908.pdf', '269 RM_230502.pdf', '537 RM_240205.pdf', '240 RM_230502.pdf', '527 fp_230727.pdf', '174 RM_230504.pdf', 'AA005531 fp_231227.pdf', '681 fp_230904.pdf', '485 fp_230726.pdf', '1041 fp_230923.pdf', '880 fp_231018.pdf', '478 fp_230726.pdf', '263 sh.pdf', '886 fp_231018.pdf', 'AA005637 fp_240108.pdf', '439 fp_230726.pdf', '106 RM_230507.pdf', '674 fp_230904.pdf', 'AA005675 fp_240108.pdf', '419 fp_230726.pdf', '25 RM_230504.pdf', '1044 fp_230923.pdf', '760 fp_230907.pdf', 'AA005655 fp_240108.pdf', '339 RM_230504.pdf', '1023 fp_230923.pdf', '129 RM_230506.pdf', '981 fp_230921.pdf', '411 fp_230726.pdf', '743 fp_230907.pdf', 'AA005433 fp_240105.pdf', 'AA005318 fp_231127.pdf', '618 fp_230831.pdf', '286 RM_230504.pdf', '693 fp_230904.pdf', 'AA005379 fp_231222.pdf', 'AA005663 fp_240108.pdf', '686-1 fp_230904.pdf', 'AA005470 fp_231226.pdf', '904 fp_231018.pdf', '1019 fp_230923.pdf', '480 fp_230726.pdf', '1021 fp_230923.pdf', '119 RM_230507.pdf', 'AA005720 fp_240108.pdf', '180 RM_240205.pdf', 'AA005725 fp_240108.pdf', 'AA005721 fp_240108.pdf', '1020 fp_230923.pdf', 'AA005618 fp_240105.pdf', '770 fp_230904.pdf', '538 fp_230727.pdf', '1005 fp_230923.pdf', '607  fp_230831.pdf', '1163 fp_230927.pdf', '292 sh_CS3.pdf', '1098 RM_240205.pdf', 'AA005471 fp_231227.pdf', '536 fp_230727.pdf', '687 fp_230904.pdf', '67 RM_230507.pdf', '244 RM_230502.pdf', 'AA005361 fp_231222.pdf', '06 sh.pdf', '1022 fp_230923.pdf', 'AA005475 fp_231226.pdf', '742 fp_230907.pdf', '260 RM_230502.pdf', 'AA005701 RM_240307.pdf', '1035 fp_230923.pdf', '265 fp_RM250417.pdf', 'AA005660 fp_240108.pdf', '243 RM_230502.pdf', '256 RM_250620.pdf', '288 RM_240205.pdf', '214 RM_230504.pdf', 'AA005554 fp_231227.pdf', 'AA005674 fp_240108.pdf', '278 sh.pdf', '730 fp_230907.pdf', '717 fp_230907.pdf', '410 fp_230726.pdf', '147 RM_230507.pdf', '533 fp_230727.pdf', '859 fp_230908.pdf', '518 fp_230727.pdf', 'AA005627 fp_240105.pdf', '962 fp_231019.pdf', '509 fp_230727.pdf', '1134 fp_230923.pdf', '623 fp_230831.pdf', '1159 fp_230927.pdf', '355 fp_230726.pdf', '809 fp_230908.pdf', '56 RM_230507.pdf', '103 RM_230507.pdf', '362 fp_230726.pdf', '957 fp_231019.pdf', 'AA005543 fp_231227.pdf', '418 fp_230726.pdf', '1131 fp_230923.pdf', '1006 fp_230923.pdf', 'AA005466 fp_231226.pdf', 'AA005613 fp_240105.pdf', '01 RM_230504.pdf', '1171 fp_230927.pdf', '967-1 fp_231019.pdf', 'AA005495 fp_231226.pdf', 'AA005486 fp_231227.pdf', '963 fp_231019.pdf', '336 RM_230504.pdf', '1172 fp_230927.pdf', '149 RM_230507.pdf', '586 fp_230831.pdf', '669 fp_230904.pdf', '284 fp_RM250417.pdf', '218 RM_230504.pdf', '1085 fp_230923.pdf', '764 RM_240205.pdf', 'AA005569 fp_231227.pdf', '1018 fp_230923.pdf', '900 fp_231018.pdf', '908 fp_231018.pdf', '158 RM_230507.pdf', '784 fp_230908.pdf', 'AA005358 fp_231222.pdf', '138 sh.pdf', '08 sh.pdf', '918 fp_231018.pdf', 'AA005478 fp_231226.pdf', '680 fp_230904.pdf', 'AA005718 fp_240108.pdf', '615 fp_230831.pdf', '705 fp_230904.pdf', '940 fp_231019.pdf', '307_RM_240205.pdf', '1074 fp_230923.pdf', '481 fp_230726.pdf', '960 fp_231019.pdf', 'AA005568 fp_231227.pdf', '1084 fp_230923.pdf', '1037 fp_230923.pdf', '126 RM_230506.pdf', '702 fp_230904.pdf', '113 RM_230507.pdf', '91 sh.pdf', '62 RM_230507.pdf', '1125 fp_230923.pdf', 'AA005302 fp_231127.pdf', '333_RM_240205.pdf', '1106 fp_230923.pdf', '926 fp_231018.pdf', 'AA005712 RM_240307.pdf', '155 RM_230507.pdf', '159 RM_230506.pdf', '387 fp_230726.pdf', 'AA005384 fp_231222.pdf', '250 sh.pdf', '815 fp_230908.pdf', '171 RM_230504.pdf', 'AA005340 fp_231222.pdf', '457 fp_230726.pdf', '534 fp_230727.pdf', '446 fp_230726.pdf', '1076 fp_230923.pdf', '648 fp_230831.pdf', 'AA005370 fp_231222.pdf', '766 fp_230904.pdf', '373 fp_230726.pdf', '389 fp_230726.pdf', '267 RM_230502.pdf', '838 fp_230908.pdf', '781 fp_230908.pdf', '929 fp_231019.pdf', 'AA005414 fp_RM250509.pdf', '1107 fp_230923.pdf', '369 RM_240205.pdf', '817 fp_230908.pdf', '50 RM_240202.pdf', '801 fp_230908.pdf', 'AA005323 fp_231127.pdf', 'AA005648 fp_240108.pdf', '596 fp_230831.pdf', '472 fp_230726.pdf', '645 fp_230831.pdf', 'AA005649 fp_240108.pdf', '325 RM_240205.pdf', '813 fp_230908.pdf', '1165 fp_230927.pdf', '1124 fp_230923.pdf', '121 RM_240202.pdf', '840 fp_230908.pdf', '647 fp_230831.pdf', 'AA005405 fp_RM250509.pdf', '810 fp_230908.pdf', '1158 fp_230927.pdf', '340 RM_230504.pdf', '818 fp_230908.pdf', '1167 fp_230927.pdf', '895 fp_231018.pdf', '490 fp_230726.pdf', '73 sh.pdf', 'AA005565 fp_231227.pdf', 'AA005581 fp_231227.pdf', '251 sh.pdf', '265 RM_230502.pdf', 'AA005584 fp_231227.pdf', '276 sh.pdf', '754 fp_230907.pdf', 'AA005345 fp_231222.pdf', 'AA005434 fp_240105.pdf', '208 sh.pdf', '452 fp_230726.pdf', '143 RM_230506.pdf', '546 fp_230831.pdf', 'AA005706 fp_240108.pdf', 'AA005703 fp_240108.pdf', 'AA005582 fp_231227.pdf', '1002 fp_230923.pdf', '474 fp_230726.pdf', 'AA005537 fp_231227.pdf', 'AA005395 fp_240105.pdf', '523 fp_230727.pdf', '1109 fp_230923.pdf', '390 fp_RM250509.pdf', '241 RM_230502.pdf', '413 fp_230726.pdf', '329 RM_240205.pdf', '1054 fp_230923.pdf', '589 fp_230831.pdf', '1128 fp_230923.pdf', '381 fp_230726.pdf', '1101 fp_230923.pdf', '712 fp_230907.pdf', '425 fp_230726.pdf', 'AA005686 fp_240108.pdf', 'AA005307 fp_231127.pdf', '401 fp_230726.pdf', '124_RM0611.pdf', '210 sh.pdf', '741 fp_230907.pdf', '709 fp_230907.pdf', '800 fp_230908.pdf', '1096 fp_230923.pdf', 'AA005359 fp_231222.pdf', 'AA005503 fp_231226.pdf', '1063 fp_230923.pdf', '997 fp_230923.pdf', '571 RM_240205.pdf', '151 RM_230507.pdf', '587 fp_230831.pdf', '731 fp_230907.pdf', '53 RM_230504.pdf', '911 fp_231018.pdf', '1136 fp_230923.pdf', '902 fp_231018.pdf', '804 fp_230908.pdf', '05 RM_230504.pdf', '1012 fp_230923.pdf', 'AA005561 fp_231227.pdf', '203 RM_240205.pdf', 'AA005372 fp_231222.pdf', 'AA005661 fp_240108.pdf', '1105 fp_230923.pdf', '267 RM_240206.pdf', 'AA005439 fp_231226.pdf', 'AA005572 fp_231227.pdf', '1100 fp_230923.pdf', '505 fp_230727.pdf', '732 fp_230907.pdf', 'AA005327 fp_RM250509.pdf', '972 fp_231019.pdf', '917 fp_231018.pdf', '396 fp_230726.pdf', '525 fp_230727.pdf', '580 fp_230831.pdf', '299_RM_240205.pdf', 'AA005325 fp_231127.pdf', '290 RM_230504.pdf', '1153 fp_230927.pdf', '189 RM_250620.pdf', '714 fp_230907.pdf', '430 fp_230726.pdf', '797 fp_230908.pdf', 'AA005608 fp_240105.pdf', '641-1 fp_230831.pdf', 'AA005518 fp_231226.pdf', '805 fp_230908.pdf', 'AA005664 fp_240108.pdf', 'AA005383 fp_231222.pdf', '1032 fp_230923.pdf', '697 fp_230904.pdf', '634 fp_230831.pdf', '294 sh_CS3.pdf', 'AA005448 fp_231226.pdf', '466 fp_230726.pdf', '856 fp_230908.pdf', '582 fp_230831.pdf', '368 fp_RM250509.pdf', 'AA005498 fp_231226.pdf', '521 fp_230727.pdf', '982 fp_230921.pdf', '267 sh.pdf', '096 RM_250502.pdf', '1121 fp_230923.pdf', '19 sh.pdf', '1148 fp_230927.pdf', '592 fp_230831.pdf', '567 fp_230831.pdf', '722 fp_230907.pdf', 'AA005288 fp_231127.pdf', '168 sh.pdf', '329 RM_230504.pdf', 'AA005490 fp_RM250509.pdf', 'AA005417 fp_240105.pdf', '1192 fp_230927.pdf', '252 fp_RM250417.pdf', '654-1 fp_230904.pdf', '18 sh.pdf', '574 fp_230831.pdf', '311 RM_230504.pdf', '473 fp_230726.pdf', '646 RM_240205.pdf', '1157 fp_230927.pdf', '548 fp_230831.pdf', '778 fp_230904.pdf', 'AA005375 fp_231222.pdf', '893 fp_231018.pdf', 'AA005557 fp_231227.pdf', '783 fp_230908.pdf', '541 fp_230831.pdf', 'AA005455 fp_231226.pdf', '1062 fp_230923.pdf', '1034 fp_230923.pdf', '691 fp_230904.pdf', '09 RM_240202.pdf', 'AA005314 fp_231127.pdf', '1205 fp_230923.pdf', '64 sh.pdf', '606 fp_230831.pdf', '819 fp_230908.pdf', '1118 RM_240205.pdf', '358 fp_230726.pdf', 'AA005580 fp_231227.pdf', '721 fp_230907.pdf', 'AA005319 fp_231127.pdf', '107 RM_230507.pdf', '833 fp_230908.pdf', '931 fp_231019.pdf', 'AA005391 fp_240105.pdf', 'AA005494 fp_RM250509.pdf', 'AA005515 fp_231226.pdf', '412 fp_230726.pdf', '1050 fp_230923.pdf', '500 RM_240205.pdf', '1017 fp_230923.pdf', 'AA005571 fp_231227.pdf', '936 fp_231019.pdf', '177 RM_230504.pdf', 'AA005716 fp_240108.pdf', '544 fp_230831.pdf', 'AA005614 fp_240105.pdf', '368 fp_230726.pdf', '965 fp_231019.pdf', '642 fp_230831.pdf', 'AA005633 fp_240105.pdf', '745 fp_230907.pdf', '579 fp_230831.pdf', '41 RM_230504.pdf', 'AA005423 fp_240105.pdf', 'AA005421 fp_240105.pdf', '1026 fp_230923.pdf', 'AA005289 fp_231127.pdf', '734 fp_230907.pdf', '1051 fp_230923.pdf', '578 fp_230831.pdf', '344 fp_RM250417.pdf', 'AA005520 fp_231226.pdf', '48 RM_230504.pdf', '372 fp_RM250509.pdf', 'AA005533 fp_231227.pdf', '566 fp_230831.pdf', '370 fp_230726.pdf', '60 RM_230507.pdf', '1208 fp_230923.pdf', '68 RM_230507.pdf', '455 fp_230726.pdf', '162 RM_230506.pdf', 'AA005629 fp_240105.pdf', '748 fp_230907.pdf', '827-1 fp_230908.pdf', 'AA005642 fp_RM250509.pdf', '192 RM_230505.pdf', '176 RM_230504.pdf', '423 fp_230726.pdf', '115 sh.pdf', '308_RM_240205.pdf', 'AA005386 fp_231222.pdf', '325_RM_240205.pdf', 'AA005304 fp_231127.pdf', '1003 fp_230923.pdf', '520 fp_230727.pdf', '979 fp_231019.pdf', 'AA005354 fp_231222.pdf', '624 fp_230831.pdf', '773 fp_230904.pdf', 'AA005349 fp_231222.pdf', '227 sh .pdf', '594 fp_230831.pdf', '1135 RM_240205.pdf', '380 fp_230726.pdf', '238 RM_230502.pdf', '326 RM_230504.pdf', 'AA005570 fp_231227.pdf', '913 fp_231018.pdf', '845 fp_230908.pdf', '408 fp_230726.pdf', 'AA005477 fp_231226.pdf', 'AA005606 fp_240105.pdf', '324_RM_240205.pdf', '688 fp_230904.pdf', '167 sh.pdf', '137 sh.pdf', 'AA005447 fp_231226.pdf', 'AA005367 fp_231222.pdf', '166 fp_RM250417.pdf', '437 fp_230726.pdf', '277 sh.pdf', 'AA005574 fp_231227.pdf', '34 RM_230504.pdf', '398 fp_230726.pdf', '828 fp_230908.pdf', '281 RM_230504.pdf', 'AA005418 fp_240105.pdf', '1198 fp_230927.pdf', '424 fp_230726.pdf', '415 fp_230726.pdf', 'AA005472 fp_231226.pdf', '334_RM_240205.pdf', '719 fp_230907.pdf', '583 fp_230831.pdf', '867 fp_230908.pdf', '271 sh.pdf', '359 fp_230726.pdf', '1060 RM_240205.pdf', '914 fp_231018.pdf', '476 fp_230726.pdf', '697 RM_240205.pdf', '145 RM_230506.pdf', '570 fp_230831.pdf', '703 fp_230904.pdf', '903 fp_231018.pdf', '268 RM_230502.pdf', 'AA005294 fp_231127.pdf', 'AA005374 fp_231222.pdf', '1013 fp_230923.pdf', '1004 fp_230923.pdf', '834 fp_230908.pdf', '975 fp_231019.pdf', '666 fp_230904.pdf', '321 RM_230504.pdf', '853 fp_230908.pdf', '1055 fp_230923.pdf', 'AA005398 fp_240105.pdf', '117 RM_230507.pdf', '86 RM_240202.pdf', '698 fp_230904.pdf', '540 fp_230727.pdf', '1137 fp_230923.pdf', '551 fp_230831.pdf', 'AA005671 fp_240108.pdf', '968 fp_231019.pdf', '553 fp_230831.pdf', 'AA005329 fp_231127.pdf', 'AA005353 fp_231222.pdf', 'AA005457 fp_231226.pdf', '289 RM_240205.pdf', '173 RM_230504.pdf', '554 fp_230831.pdf', 'AA005313 fp_231127.pdf', '877-1 fp_231018.pdf', '261 RM_230502.pdf', '03 RM_230504.pdf', '832 fp_230908.pdf', '854 fp_230908.pdf', 'AA005479 fp_RM250509.pdf', '600 fp_230831.pdf', 'AA005573 fp_231227.pdf', '896 fp_231018.pdf', '631 fp_230831.pdf', '976 fp_231019.pdf', '164 RM_230506.pdf', 'AA005705 fp_240108.pdf', 'AA005322 fp_231127.pdf', 'AA005624 fp_240105.pdf', '1164 fp_230927.pdf', 'AA005562 fp_231227.pdf', '153 RM_230507.pdf', 'AA005380 fp_231222.pdf', '1191 fp_230927.pdf', '1053 fp_230923.pdf', 'AA005682 fp_240108.pdf', '756 fp_230907.pdf', '28 RM_230504.pdf', '253 RM_230502.pdf', '1008 fp_230923.pdf', 'AA005552 fp_231227.pdf', 'AA005403 fp_240105.pdf', '1111 fp_230923.pdf', 'AA005351 RM_240205.pdf', '246 RM_230502.pdf', '392-1 fp_230726.pdf', '42 RM_230504.pdf', 'AA005291 fp_231127.pdf', '744 fp_230907.pdf', '40 RM_230504.pdf', '897 fp_231018.pdf', '577 fp_230831.pdf', '661 fp_230904.pdf', '320_RM_240205.pdf', 'AA005371 fp_231222.pdf', '58 sh.pdf', '588 fp_230831.pdf', '1197 fp_230927.pdf', 'AA005305 fp_231127.pdf', 'AA005446 fp_231226.pdf', '441 fp_230726.pdf', '388 RM_240205.pdf', '675 fp_230904.pdf', 'AA005501 fp_231226.pdf', '835 fp_230908.pdf', '216 RM_230504.pdf', '1201 fp_230923.pdf', 'AA005311 fp_231127.pdf', 'AA005350 fp_231222.pdf', '678 fp_230904.pdf', '1120 fp_230923.pdf', '273 sh.pdf', 'D:\\\\程式\\\\GearOCR_Dataset', 'AA005331 fp_231128.pdf', '165 RM_230506.pdf', '944 fp_231019.pdf', '112 RM_230507.pdf', '706 fp_230907.pdf', '348 fp_230726.pdf', '724 fp_230907.pdf', '148 RM_230507.pdf', '772 fp_230904.pdf', 'AA005635 fp_240105.pdf', '602 fp_230831.pdf', 'AA005605 fp_240105.pdf', '357 fp_230726.pdf', '346 fp_230726.pdf', 'AA005632 fp_240105.pdf', '744 RM_240205.pdf', '249 RM_230502.pdf', '1115 fp_230923.pdf', '31 RM_230504.pdf', '786 fp_230908.pdf', '1093 fp_230923.pdf', 'AA005508 fp_231226.pdf', 'AA005425 fp_240105.pdf', '353 fp_230726.pdf', 'AA005698 fp_240108.pdf', '684 fp_230904.pdf', '236 RM_230502.pdf', '1077 fp_230923.pdf', '221 sh.pdf', '825 fp_230908.pdf', '450 fp_230726.pdf', 'AA005415 fp_240105.pdf', '958 fp_231019.pdf', 'AA005526 fp_231226.pdf', '947 fp_231019.pdf', 'AA005702 fp_240108.pdf', '431 fp_230726.pdf', '991 fp_230921.pdf', '384 fp_230726.pdf', '888 fp_231018.pdf', '245 RM_230504.pdf', '1119 fp_230923.pdf', 'AA005530 fp_231227.pdf', '774 fp_230904.pdf', '555-1 fp_230831.pdf', '169 sh.pdf', '328 RM_230504.pdf', '750 fp_230907.pdf', 'AA005673 fp_240108.pdf', '340_RM_240205.pdf', 'AA005593 fp_RM250509.pdf', '752 RM_240205.pdf', '179 RM_230504.pdf', '204 RM_230504.pdf', 'AA005500 fp_231226.pdf', '953 fp_231019.pdf', '38 RM_230504.pdf', 'AA005385 fp_231222.pdf', '802 fp_230908.pdf', '1057 fp_230923.pdf', '416 fp_230726.pdf', 'AA005666 fp_240108.pdf', '977 fp_231019.pdf', '831-1 fp_230908.pdf', '360 fp_230726.pdf', '951 fp_231019.pdf', '386 fp_230726.pdf', 'AA005424 fp_240106.pdf', 'AA005722 fp_240108.pdf', '461 fp_230726.pdf', '581 fp_230831.pdf', 'AA005615 fp_240105.pdf', 'AA005549 fp_231227.pdf', 'AA005290 fp_231127.pdf', '139 fp_220111.pdf', 'AA005599 fp_240105.pdf', 'AA005315 fp_231127.pdf', '849 fp_230908.pdf', '498 fp_230727.pdf', 'AA005691 fp_240105.pdf', 'AA005484 fp_231226.pdf', '1056 fp_230923.pdf', '1156 fp_230927.pdf', '1185 fp_230927.pdf', 'AA005546 fp_231227.pdf', '1180 fp_230927.pdf', '407 fp_230726.pdf', '331_RM_240205.pdf', '865 fp_230908.pdf', '775 fp_230904.pdf', '300 sh_CS3.pdf', '445 fp_230726.pdf', '76 RM_230507.pdf', '850 fp_230908.pdf', '27 RM_230504.pdf', '758 fp_230907.pdf', 'AA005514 fp_231226.pdf', '1082 fp_230923.pdf', 'AA005396 fp_240105.pdf', '959 fp_231019.pdf', '337 RM_230504.pdf', '700 fp_230904.pdf', 'AA005429 fp_240105.pdf', 'AA005341 fp_231222.pdf', 'AA005502 fp_231226.pdf', '332 RM_240205.pdf', 'AA005612 fp_240105.pdf', '899 fp_231018.pdf', '231 sh.pdf', '494 fp_230727.pdf', '163 RM_230506.pdf', '934 fp_231019.pdf', 'AA005595 fp_240105.pdf', '950 fp_231019.pdf', '1206 fp_230923.pdf', '652 fp_230904.pdf', '1129 fp_230923.pdf', '1095 fp_230923.pdf', '923 fp_231018.pdf', '1066 fp_230923.pdf', '54 RM_230504.pdf', '222 RM_240205.pdf', '435 fp_230726.pdf', '1090 fp_230923.pdf', 'AA005402 fp_RM250509.pdf', '275 fp_230328.pdf', '1177 fp_230927.pdf', 'AA005726 fp_240108.pdf', '1027 fp_230923.pdf', '803 fp_230908.pdf', 'AA005583 fp_231227.pdf', 'AA005622 fp_240105.pdf', 'AA005298 fp_231127.pdf', '649 fp_230831.pdf', '132 RM_230507.pdf', '459 fp_230726.pdf', '668 fp_230904.pdf', '352 RM_240205.pdf', '23 RM_240202.pdf', '233 RM_230502.pdf', '1016 fp_230923.pdf', '65 sh.pdf', '1181 fp_230927.pdf', '1141 fp_230923.pdf', '343 fp_230726.pdf', 'AA005413 fp_240105.pdf', '978 fp_231019.pdf', '230 sh.pdf', '920 fp_231018.pdf', '844 RM_240205.pdf', '901 fp_231018.pdf', '1080 fp_230923.pdf', '542 fp_230831.pdf', 'AA005303 fp_231127.pdf', '925 fp_231018.pdf', '1209 RM_240205.pdf', '543 fp_230831.pdf', 'AA005710 fp_240108.pdf', 'AA005462 fp_231226.pdf', '1110 fp_230923.pdf', '720 fp_230907.pdf', 'AA005382 fp_231222.pdf', '371 RM_240205.pdf', '10 RM_240202.pdf', '984 fp_230921.pdf', '449 fp_230726.pdf', '626-1 fp_230831.pdf', '638 fp_230831.pdf', 'AA005598 fp_240106.pdf', '573 fp_230831.pdf', '17 RM_240202.pdf', 'AA005427 fp_240105.pdf', '333 RM_230504.pdf', '1140 fp_230923.pdf', '366 fp_230726.pdf', 'AA005330 fp_RM250509.pdf', '095 RM_250505.pdf', 'AA005451 fp_231226.pdf', 'AA005337 fp_231222.pdf', '790 fp_230908.pdf', '1118 fp_230923.pdf', '513 fp_230727.pdf', '575-1 fp_230831.pdf', '655 fp_230904.pdf', '909 fp_231018.pdf', '140 RM_230506.pdf', '759 fp_230907.pdf', '293 RM_230504.pdf', '619 fp_230831.pdf', 'AA005596 fp_240105.pdf', 'AA005426 fp_240105.pdf', '1079 fp_230923.pdf', '857 fp_230908.pdf', '306_RM_240205.pdf', '912 fp_231018.pdf', '51 RM_230504.pdf', 'AA005428 fp_240105.pdf', '201 RM_230505.pdf', '653 fp_230904.pdf', '562 fp_230831.pdf', '522 fp_230727.pdf', '406 fp_RM250509.pdf', '66 RM_230507.pdf', '224 fp_230223.pdf', '206 RM_230504.pdf', '629 fp_230831.pdf', 'AA005392 fp_240105.pdf', '1094 fp_230923.pdf', '13 RM_230504.pdf', '550 fp_230831.pdf', '377 fp_RM250509.pdf', 'sample_data']\n"
          ]
        }
      ]
    },
    {
      "cell_type": "code",
      "source": [
        "from pdf2image import convert_from_path\n",
        "from PIL import Image\n",
        "import os, json\n",
        "\n",
        "# 請確認這些路徑在 Colab 環境中是正確的\n",
        "# 根據 /content/ 的檔案列表，您的 PDF 檔案直接在 /content/ 下\n",
        "pdf_dir = \"/content/\"\n",
        "# 假設 cropmap.json 在 /content/ 下\n",
        "cropmap_path = \"/content/cropmap.json\"\n",
        "# 輸出資料夾設在 /content/ 下，避免和輸入混淆\n",
        "output_dir = \"/content/output_images\"\n",
        "label_dir = \"/content/output_labels\"\n",
        "\n",
        "\n",
        "try:\n",
        "    with open(cropmap_path) as f:\n",
        "        cropmap = json.load(f)\n",
        "except FileNotFoundError:\n",
        "    print(f\"錯誤：找不到 cropmap 檔案於 {cropmap_path}。請確認檔案已上傳。\")\n",
        "    # 可以選擇在此處退出或做其他處理\n",
        "    # raise # 如果您希望程式在找不到檔案時停止，可以取消註解這行\n",
        "    exit() # 暫時退出，避免後續因 cropmap 找不到而報錯\n",
        "\n",
        "os.makedirs(output_dir, exist_ok=True)\n",
        "os.makedirs(label_dir, exist_ok=True)\n",
        "\n",
        "# 檢查 pdf_dir 是否存在且有內容\n",
        "if not os.path.isdir(pdf_dir):\n",
        "    print(f\"錯誤：找不到 PDF 資料夾於 {pdf_dir}。請確認資料夾已上傳。\")\n",
        "    exit()\n",
        "\n",
        "pdf_files = [f for f in os.listdir(pdf_dir) if f.endswith(\".pdf\")]\n",
        "\n",
        "if not pdf_files:\n",
        "    print(f\"警告：在 {pdf_dir} 中找不到任何 PDF 檔案。請確認資料夾中有 PDF 檔案。\")\n",
        "\n",
        "for pdf_file in pdf_files:\n",
        "    pdf_path = os.path.join(pdf_dir, pdf_file)\n",
        "    base_name = os.path.splitext(pdf_file)[0]\n",
        "\n",
        "    try:\n",
        "        # 請確認 poppler-utils 已經安裝\n",
        "        # convert_from_path 需要指定 poppler_path，如果它不在系統的 PATH 中\n",
        "        # 在 Colab 中通常不需要，但如果在本地運行，可能需要指定\n",
        "        pages = convert_from_path(pdf_path, dpi=300)\n",
        "\n",
        "        # 修改這裡：增加一層迴圈來遍歷每一頁的裁剪區域\n",
        "        for idx, page in enumerate(pages):\n",
        "            page_key = f\"page_{idx}\" # 假設 cropmap 中的頁面鍵值是 page_0, page_1, ...\n",
        "            if page_key in cropmap:\n",
        "                page_cropmap = cropmap[page_key]\n",
        "                # 遍歷該頁面中的所有裁剪區域\n",
        "                for key, rect in page_cropmap.items():\n",
        "                    # 確保 rect 是有效的列表或元組\n",
        "                    if not isinstance(rect, (list, tuple)) or len(rect) != 4:\n",
        "                        print(f\"警告：cropmap 中 '{page_key}' 頁面 '{key}' 的矩形資料格式不正確: {rect}。跳過此區域。\")\n",
        "                        continue\n",
        "\n",
        "                    x, y, w, h = rect\n",
        "                    # 檢查矩形座標是否有效\n",
        "                    if x < 0 or y < 0 or w <= 0 or h <= 0:\n",
        "                         print(f\"警告：cropmap 中 '{page_key}' 頁面 '{key}' 的矩形座標或尺寸無效: {rect}。跳過此區域。\")\n",
        "                         continue\n",
        "\n",
        "                    # Pillow 的 crop 方法是 (left, upper, right, lower)\n",
        "                    # rect 中的 w 和 h 是寬度和高度，所以 right = x + w, lower = y + h\n",
        "                    # 確保裁剪區域不超出圖片邊界\n",
        "                    img_width, img_height = page.size\n",
        "                    right = min(x + w, img_width)\n",
        "                    lower = min(y + h, img_height)\n",
        "                    left = max(0, x)\n",
        "                    upper = max(0, y)\n",
        "\n",
        "                    if right <= left or lower <= upper:\n",
        "                         print(f\"警告：cropmap 中 '{page_key}' 頁面 '{key}' 的計算裁剪區域無效 ({left}, {upper}, {right}, {lower})。跳過此區域。\")\n",
        "                         continue\n",
        "\n",
        "\n",
        "                    try:\n",
        "                        crop = page.crop((left, upper, right, lower))\n",
        "                        # 圖片名稱格式改為 {base_name}_{page_idx}_{key}.png 以免不同頁面有相同 key 造成覆蓋\n",
        "                        # 替換掉 key 中的無效檔案名稱字元，例如斜線 /\n",
        "                        safe_key = key.replace('/', '_').replace('\\\\', '_') # 替換斜線和反斜線\n",
        "                        img_name = f\"{base_name}_{idx}_{safe_key}.png\"\n",
        "                        crop.save(os.path.join(output_dir, img_name))\n",
        "                        # 建立空的文字標籤檔\n",
        "                        # 標籤檔名稱也加上頁碼\n",
        "                        with open(os.path.join(label_dir, img_name.replace(\".png\", \".txt\")), \"w\") as f:\n",
        "                            f.write(\"\")  # 初始不填，標註時會補上\n",
        "                    except Exception as e:\n",
        "                        print(f\"處理檔案 {pdf_file} 的頁面 {idx} 區域 '{key}' 時發生錯誤: {e}\")\n",
        "            else:\n",
        "                print(f\"警告：在 cropmap 中找不到頁面鍵值 '{page_key}'。跳過此頁面。\")\n",
        "\n",
        "    except Exception as e:\n",
        "        print(f\"處理 PDF 檔案 {pdf_file} 時發生錯誤: {e}\")\n",
        "\n",
        "print(\"PDF 處理完成。\")"
      ],
      "metadata": {
        "colab": {
          "base_uri": "https://localhost:8080/"
        },
        "id": "aMSPMXiylp64",
        "outputId": "2a937b8e-c3f2-4f7d-fc47-09ab8bcbe40c"
      },
      "execution_count": 5,
      "outputs": [
        {
          "output_type": "stream",
          "name": "stdout",
          "text": [
            "警告：在 cropmap 中找不到頁面鍵值 'page_2'。跳過此頁面。\n",
            "PDF 處理完成。\n"
          ]
        }
      ]
    },
    {
      "cell_type": "code",
      "source": [
        "import os\n",
        "print(os.listdir('/content/'))"
      ],
      "metadata": {
        "colab": {
          "base_uri": "https://localhost:8080/"
        },
        "id": "pEo6Yrwem6P8",
        "outputId": "458b2f28-c622-4eb3-83fa-4c2d2aea3809"
      },
      "execution_count": 2,
      "outputs": [
        {
          "output_type": "stream",
          "name": "stdout",
          "text": [
            "['.config', '530 fp_230727.pdf', 'AA005334 fp_RM250509.pdf', 'AA005449 fp_231226.pdf', '608 fp_230831.pdf', 'AA005496 fp_231226.pdf', '974 fp_231019.pdf', '199 RM_230505.pdf', '198 RM_240205.pdf', '829 fp_230908.pdf', '316 RM_230504.pdf', '852 fp_230908.pdf', '213 sh.pdf', '593 fp_230831.pdf', '757 fp_230907.pdf', '796 fp_230908.pdf', '861 fp_230908.pdf', '305_RM_240205.pdf', '470 fp_230726.pdf', 'AA005393 fp_240105.pdf', '1083 fp_230923.pdf', '1031 fp_230923.pdf', '966 fp_231019.pdf', '438 fp_230726.pdf', '101 sh.pdf', '45 RM_230504.pdf', '755 fp_230907.pdf', '707 fp_230907.pdf', '93 RM_230507.pdf', '868 fp_230908.pdf', '394 fp_230726.pdf', '397 fp_RM250509.pdf', 'AA005609 fp_240105.pdf', '733 fp_230907.pdf', '814 fp_230908.pdf', '866 fp_230908.pdf', 'AA005297 fp_231127.pdf', 'AA005430 fp_240105.pdf', '128 RM_230506.pdf', '954 fp_231019.pdf', '69 RM_230507.pdf', '32 RM_230504.pdf', '595 fp_230831.pdf', '949 fp_231019.pdf', '382 fp_230726.pdf', '636 fp_230831.pdf', '200 RM_230505.pdf', '725 fp_230907.pdf', '1169 fp_230927.pdf', '92 RM_230507.pdf', '20 RM_230504.pdf', '1133 RM_240205.pdf', '510 fp_230727.pdf', 'AA005400 fp_RM250509.pdf', 'AA005292 fp_231127.pdf', '956 fp_231019.pdf', '1099 fp_230923.pdf', '1132 RM_240205.pdf', 'AA005538 fp_231227.pdf', '391 fp_230726.pdf', '123 RM_230506.pdf', 'AA005576 fp_231227.pdf', 'AA005590 fp_240105.pdf', 'AA005482 fp_231226.pdf', '1130 RM_240205.pdf', '564 fp_230831.pdf', '765 fp_230904.pdf', '378 fp_230726.pdf', '506 fp_230727.pdf', '1178 fp_230927.pdf', '948 fp_231019.pdf', '354 fp_230726.pdf', 'AA005489 fp_RM250509.pdf', '601 fp_230831.pdf', 'AA005469 fp_231226.pdf', '710 fp_230907.pdf', 'AA005460 RM_240205.pdf', '785 fp_230908.pdf', '432 fp_230726.pdf', '453 fp_230726.pdf', '247 RM_230502.pdf', '1161 fp_230927.pdf', '99 RM_230507.pdf', '729 fp_230907.pdf', '935 fp_231019.pdf', '830 fp_230908.pdf', '890 fp_231018.pdf', '1028 fp_230923.pdf', '258 RM_230502.pdf', '417 fp_230726.pdf', '330 RM_230504.pdf', '209 fp_220111.pdf', '434 fp_230726.pdf', '.ipynb_checkpoints', '493 fp_230727.pdf', '843 fp_230908.pdf', '549 fp_230831.pdf', '150 RM_230507.pdf', '870 fp_230908.pdf', '81 RM_230507.pdf', 'AA005631 fp_240105.pdf', '664 fp_230904.pdf', 'AA005339 fp_231222.pdf', '323 RM_230504.pdf', '266 RM_230502.pdf', 'AA005497 fp_231226.pdf', 'AA005335 fp_231128.pdf', '590 fp_230831.pdf', 'AA005564 fp_231227.pdf', '1187 fp_230927.pdf', 'AA005485 fp_231226.pdf', '318 RM_230504.pdf', '605 fp_230831.pdf', '161 RM_230506.pdf', 'AA005589 fp_RM250509.pdf', 'AA005296 fp_231127.pdf', 'AA005357 fp_231222.pdf', 'AA005452 fp_231227.pdf', 'AA005504 fp_231226.pdf', 'AA005348 fp_231222.pdf', 'AA005399 fp_240105.pdf', '885 fp_231018.pdf', '878 fp_231018.pdf', '400 fp_230726.pdf', '883 fp_231018.pdf', '942 fp_231019.pdf', '385 fp_230726.pdf', '1103 fp_230923.pdf', 'AA005438 fp_231226.pdf', 'AA005588 fp_240105.pdf', '1204 RM_240205.pdf', '1089 fp_230923.pdf', '262 RM_250505.pdf', 'AA005408 fp_240105.pdf', '338 RM_230504.pdf', '1081 fp_230923.pdf', '1070 fp_230923.pdf', '1154 fp_230927.pdf', 'AA005713 fp_240108.pdf', '625 fp_230831.pdf', '12 RM_240202.pdf', '791 fp_230908.pdf', '52 RM_230504.pdf', '304_RM_240205.pdf', 'AA005332 fp_231128.pdf', '556 fp_230831.pdf', '1145 fp_230923.pdf', '660 fp_230904.pdf', 'AA005681 fp_240108.pdf', 'AA005558 fp_231227.pdf', '983 fp_230921.pdf', '482-1 fp_230726.pdf', '946 fp_231019.pdf', '1117 fp_230923.pdf', '740 fp_230907.pdf', '842 fp_230908.pdf', 'AA005621 fp_240105.pdf', '789 fp_230908.pdf', '135 RM_230506.pdf', 'AA005441 fp_231226.pdf', '120 RM_230507.pdf', '226 sh.pdf', 'AA005412 fp_240105.pdf', '938 fp_231019.pdf', '331 RM_230504.pdf', '1166 fp_230927.pdf', 'AA005435 fp_240105.pdf', 'AA005487 fp_231226.pdf', 'AA005453 fp_231226.pdf', '846 fp_230908.pdf', '232 sh.pdf', '787 fp_230908.pdf', 'AA005687 fp_240105.pdf', 'AA005719 fp_240108.pdf', '351 fp_RM250509.pdf', '82 RM_230507.pdf', '125 RM_230506.pdf', '776 fp_230904.pdf', '24 RM_230504.pdf', '207 sh.pdf', '726 fp_230907.pdf', '932 fp_231019.pdf', '225 sh.pdf', '403 fp_RM250509.pdf', '146_RM0611.pdf', '141 RM_230506.pdf', 'AA005550 fp_231227.pdf', 'AA005715 fp_240108.pdf', '637 fp_230831.pdf', '928 fp_231019.pdf', '193 RM_250620.pdf', '558 fp_230831.pdf', '37 RM_230504.pdf', 'AA005388 fp_240105.pdf', '598 fp_230831.pdf', '15 RM_230504.pdf', '497 fp_230727.pdf', '671 fp_230904.pdf', 'AA005652 fp_240108.pdf', 'AA005378 fp_231222.pdf', '964 fp_231019.pdf', 'AA005316 fp_231127.pdf', 'AA005677 fp_240108.pdf', '94 sh.pdf', '658-1 fp_230904.pdf', '532 fp_230727.pdf', '824 fp_230908.pdf', '263 RM_230502.pdf', '205 RM_230504.pdf', '55 RM_230504.pdf', '108 RM_230507.pdf', 'AA005529 fp_231227.pdf', '792 fp_230908.pdf', '357 fp_RM250417.pdf', '672 fp_230904.pdf', '630-1 fp_230831.pdf', '1112 fp_230923.pdf', '1199-1 fp_230927.pdf', '1210 fp_230923.pdf', '762 fp_230904.pdf', '650 fp_230831.pdf', '379 fp_230726.pdf', '74 sh.pdf', '1144 fp_230923.pdf', 'AA005527 fp_231227.pdf', 'AA005365 fp_231222.pdf', 'AA005601 fp_240105.pdf', '426 fp_230726.pdf', '395 fp_RM250509.pdf', '1040 fp_230923.pdf', 'AA005654 fp_240108.pdf', '184 RM_230504.pdf', '620 fp_230831.pdf', '552 fp_230831.pdf', '998 fp_230923.pdf', 'AA005704 fp_240108.pdf', '1160 fp_230927.pdf', '130 RM_230506.pdf', '1033 fp_230923.pdf', '696 fp_230904.pdf', '111 RM_230507.pdf', 'AA005693 fp_240105.pdf', 'AA005407 fp_RM250509.pdf', '197 RM_230505.pdf', '887 fp_231018.pdf', '185 RM_230504.pdf', '1186 fp_230927.pdf', '891 fp_231018.pdf', '820 fp_230908.pdf', '659 fp_230904.pdf', '1121 RM_240205.pdf', '826 fp_230908.pdf', 'AA005320 fp_231127.pdf', 'AA005310 fp_231127.pdf', '905 fp_231018.pdf', '560 fp_230831.pdf', '777 fp_230904.pdf', '656 fp_230904.pdf', 'AA005394 fp_240105.pdf', '812 fp_230908.pdf', '84 RM_240202.pdf', '1064 fp_230923.pdf', 'AA005597 fp_240105.pdf', '875 fp_231018.pdf', '196 RM_230505.pdf', '59 RM_230507.pdf', '524 fp_230727.pdf', '531 fp_230727.pdf', '690 fp_230904.pdf', '444 fp_230726.pdf', '239 RM_230502.pdf', '694 fp_230904.pdf', '1045 fp_230923.pdf', 'AA005512 fp_231226.pdf', '545-1 fp_230831.pdf', 'AA005578 fp_231227.pdf', 'AA005659 fp_240108.pdf', '334 RM_230504.pdf', 'AA005321 fp_231127.pdf', 'AA005723 fp_240108.pdf', '257 RM_230502.pdf', '191 sh.pdf', '1152 fp_230927.pdf', '35 RM_230504.pdf', '597 fp_230831.pdf', '1086 fp_230923.pdf', '617 fp_230831.pdf', '314 RM_230504.pdf', '188 RM_230504.pdf', '735 fp_230907.pdf', '907 fp_231018.pdf', 'AA005542 fp_231227.pdf', '682 fp_230904.pdf', '335 RM_230504.pdf', '220 RM_230504.pdf', '170 RM_230504.pdf', '753 RM_240205.pdf', '761 fp_230904.pdf', '670 fp_230904.pdf', '215 RM_230504.pdf', 'AA005373 fp_231222.pdf', '639 fp_230831.pdf', '350 fp_RM250509.pdf', '16 RM_230504.pdf', 'AA005445 fp_231226.pdf', 'AA005420 fp_240105.pdf', '285 RM_230504.pdf', '297 sh_CS3.pdf', '43 RM_230504.pdf', '799 fp_230908.pdf', '526 fp_230727.pdf', '365 fp_RM250509.pdf', '1143 fp_230923.pdf', '612 fp_230831.pdf', '557 fp_230831.pdf', '405 fp_230726.pdf', '1010 fp_230923.pdf', '528 fp_230727.pdf', '1038 fp_230923.pdf', '1193 fp_230927.pdf', 'AA005591 fp_240105.pdf', '420 fp_230726.pdf', '822 fp_230908.pdf', 'AA005700 fp_240108.pdf', '1162 fp_230927.pdf', '1146 fp_230927.pdf', '864 fp_230908.pdf', '254 fp_RM250417.pdf', 'AA005440 fp_231226.pdf', '1142 fp_230923.pdf', '699 fp_230904.pdf', '1046 fp_230923.pdf', '547 fp_230831.pdf', '939 fp_231019.pdf', '1196 fp_230927.pdf', 'AA005336 fp_231128.pdf', 'AA005630 fp_240105.pdf', 'AA005287 fp_231127.pdf', '610 fp_230831.pdf', '310 RM_230504.pdf', '118 RM_230507.pdf', 'AA005696 fp_240105.pdf', '1014 fp_230923.pdf', '808 fp_230908.pdf', '181 sh.pdf', 'AA005668 fp_240108.pdf', '302_RM_240205.pdf', '1071 fp_230923.pdf', '105 RM_230507.pdf', '44 RM_230504.pdf', '568 fp_230831.pdf', '701 fp_230904.pdf', 'AA005513 fp_231226.pdf', '409 fp_230726.pdf', '995 fp_230923.pdf', 'AA005657 fp_240108.pdf', '475 fp_230726.pdf', '713 fp_230907.pdf', '465 fp_230726.pdf', 'AA005651 fp_240108.pdf', 'AA005620 fp_240105.pdf', '924 fp_231018.pdf', '1200 fp_230927.pdf', 'AA005476 fp_231226.pdf', '363 fp_230726.pdf', '745 RM_240205.pdf', 'AA005488 fp_231226.pdf', '1138 fp_230923.pdf', '428 RM_240205.pdf', '894 fp_231018.pdf', '255 RM_230502.pdf', '704 fp_230904.pdf', '916 fp_231018.pdf', '806 fp_230908.pdf', '1048 fp_230923.pdf', '937-1 fp_231019.pdf', '751 RM_240205.pdf', 'AA005333 fp_231128.pdf', '326_RM_240205.pdf', '1179 fp_230927.pdf', 'AA005389 fp_240105.pdf', '1001 fp_230923.pdf', '665 fp_230904.pdf', '1174 fp_230927.pdf', '738 fp_230907.pdf', '399 fp_230726.pdf', '211 sh.pdf', '1039 fp_230923.pdf', '692 fp_230904.pdf', '235 RM_230502.pdf', '1009 fp_230923.pdf', '152 RM_230507.pdf', '1092 fp_230923.pdf', '807 fp_230908.pdf', '922 fp_231018.pdf', 'AA005464 fp_231226.pdf', '356 fp_230726.pdf', '676 fp_230904.pdf', '971 fp_231019.pdf', '993 fp_230921.pdf', '47 sh.pdf', '1043 fp_230923.pdf', '88 RM_230507.pdf', '219 RM_230504.pdf', 'AA005450 fp_231226.pdf', 'AA005507 fp_231226.pdf', '1087 RM_240205.pdf', 'AA005692 fp_240105.pdf', '1209 fp_230923.pdf', '347 RM_250630.pdf', '443 fp_230726.pdf', '447 fp_230726.pdf', '535 fp_230727.pdf', 'AA005600 fp_240105.pdf', '495 fp_230727.pdf', 'AA005356 fp_231222.pdf', '282 RM_230504.pdf', '507 fp_230727.pdf', '1029 fp_230923.pdf', '999 fp_230923.pdf', '270 RM_230502.pdf', '39 RM_230504.pdf', '821 fp_230908.pdf', '464 fp_230726.pdf', 'AA005539 fp_231227.pdf', '97 RM_240202.pdf', 'AA005390 fp_240105.pdf', 'AA005641 fp_240108.pdf', '122 RM_230507.pdf', '1007 fp_230923.pdf', 'AA005646 fp_240108.pdf', '486 fp_230726.pdf', '33 RM_230504.pdf', '503 fp_230727.pdf', '374 fp_RM250509.pdf', '1182 fp_230927.pdf', 'AA005443 fp_231226.pdf', '788 fp_230908.pdf', 'AA005519 fp_231226.pdf', '858 fp_230908.pdf', '882 fp_231018.pdf', '1061 fp_230923.pdf', '471 fp_230726.pdf', 'AA005592 fp_240105.pdf', '440 fp_230726.pdf', '1194 fp_230927.pdf', 'AA005456 fp_231226.pdf', 'AA005643 fp_240108.pdf', '291 RM_230504.pdf', '212 RM_250502.pdf', '228 RM_240205.pdf', 'AA005699 fp_240108.pdf', '739 fp_230907.pdf', '749 fp_230907.pdf', '651-1 fp_230904.pdf', '1058 fp_230923.pdf', '884 fp_231018.pdf', '172 RM_230504.pdf', 'AA005535 fp_231227.pdf', '640 fp_230831.pdf', '996 fp_230923.pdf', 'AA005694 fp_240105.pdf', '863 fp_230908.pdf', '1123 fp_230923.pdf', '1000 fp_230923.pdf', '892 fp_231018.pdf', '1126 fp_230923.pdf', '1189 fp_230927.pdf', '194 RM_230505.pdf', '727 fp_230907.pdf', 'AA005328 fp_231127.pdf', 'AA005619 fp_240105.pdf', 'AA005678 fp_240108.pdf', 'AA005579 fp_231227.pdf', '969 fp_231019.pdf', '989 fp_230921.pdf', '663-1 fp_230904.pdf', 'AA005628 fp_240105.pdf', 'AA005406 fp_240105.pdf', '393 fp_230726.pdf', 'AA005366 fp_231222.pdf', 'AA005344 fp_231222.pdf', '345 RM_250630.pdf', '985 fp_230921.pdf', 'AA005324 fp_RM250509.pdf', '483 fp_230726.pdf', 'AA005463 fp_231227.pdf', 'AA005431 fp_240105.pdf', '414 fp_230726.pdf', '898 fp_231018.pdf', '1190 fp_230927.pdf', '19 fp_220111.pdf', 'AA005347 fp_231222.pdf', '728 fp_230907.pdf', 'AA005454 fp_231226.pdf', '746 fp_230907.pdf', '839 fp_230908.pdf', 'AA005346 fp_231222.pdf', '860 fp_230908.pdf', '869 fp_230908.pdf', '945 fp_231019.pdf', '611 fp_230831.pdf', '837 fp_230908.pdf', '1072 fp_230923.pdf', '711 fp_230907.pdf', '751 fp_230907.pdf', 'AA005645 fp_240108.pdf', 'AA005432 fp_240105.pdf', '563 fp_230831.pdf', '584 fp_230831.pdf', '1176 fp_230927.pdf', '514 fp_230727.pdf', '716 fp_230907.pdf', '1036 fp_230923.pdf', 'AA005667 fp_240108.pdf', '585 fp_230831.pdf', '1059 fp_230923.pdf', '795 fp_230908.pdf', 'AA005342 fp_231222.pdf', '657 fp_230904.pdf', '375 fp_RM250509.pdf', '268 sh.pdf', '569 fp_230831.pdf', '748 RM_240205.pdf', '264 sh.pdf', '915 fp_231018.pdf', '451-1 fp_230726.pdf', 'AA005459 fp_231226.pdf', '14 fp_RM250417.pdf', '100 RM_230507.pdf', '502 fp_230727.pdf', '1149 fp_230927.pdf', '715 fp_230907.pdf', '154 RM_230507.pdf', '811 fp_230909.pdf', 'AA005483 fp_231226.pdf', '780 fp_230905.pdf', 'AA005551 fp_231227.pdf', '955 fp_231019.pdf', 'AA005594 fp_240105.pdf', '487 fp_230726.pdf', '769 fp_230904.pdf', '970 fp_231019.pdf', '303_RM_240205.pdf', '484 fp_230726.pdf', '116 RM_230507.pdf', '1067 fp_230923.pdf', '20 sh.pdf', '429 fp_230726.pdf', '718 fp_230907.pdf', '367 fp_RM250509.pdf', '183 RM_230504.pdf', '881 fp_231018.pdf', '296 sh_CS3.pdf', '565 fp_230831.pdf', '1078 fp_230923.pdf', '79 RM_230507.pdf', 'AA005672 fp_240108.pdf', 'AA005684 fp_240108.pdf', '591 fp_230831.pdf', '604 fp_230831.pdf', 'AA005575 fp_231227.pdf', '771 fp_230904.pdf', '341 fp_230726.pdf', '723 fp_230907.pdf', '477 fp_230726.pdf', '644 fp_230831.pdf', '182 RM_230504.pdf', '927 fp_231019.pdf', '89 RM_230507.pdf', '559 fp_230831.pdf', '36 RM_230504.pdf', '20 RM_240202.pdf', '317 RM_230504.pdf', '488 fp_230726.pdf', 'AA005422 fp_240105.pdf', 'AA005586 fp_231227.pdf', '272 sh.pdf', '609 RM_240205.pdf', 'AA005516 fp_231226.pdf', '667 fp_230904.pdf', '874 fp_231018.pdf', '1068 fp_230923.pdf', 'AA005522 fp_231226.pdf', 'AA005524 fp_231226.pdf', 'AA005444 fp_231226.pdf', '613 fp_230831.pdf', '943 fp_231019.pdf', '779 fp_230905.pdf', '1069 fp_230923.pdf', '26 RM_240202.pdf', 'AA005636 fp_240105.pdf', '614 fp_230831.pdf', '298 fp_RM250417.pdf', '142 RM_230506.pdf', 'AA005577 fp_231227.pdf', '848 fp_230908.pdf', '736 fp_230907.pdf', '952 fp_231019.pdf', '325 RM_230504.pdf', '13 sh.pdf', '402 fp_230726.pdf', '202 sh.pdf', '992 fp_230921.pdf', '136 RM_230506.pdf', 'AA005563 fp_231227.pdf', '685 fp_230904.pdf', '677 fp_230904.pdf', 'AA005368 fp_231222.pdf', 'AA005437 fp_231226.pdf', 'AA005338 fp_231222.pdf', '1025 fp_230923.pdf', 'AA005688 fp_240105.pdf', '576 fp_230831.pdf', 'AA005377 fp_231222.pdf', '1183 fp_230927.pdf', '71 RM_230507.pdf', '862 fp_230908.pdf', 'AA005442 fp_231226.pdf', '329_RM_240205.pdf', '90 sh.pdf', '823 RM_240205.pdf', '504 fp_230727.pdf', '876 fp_231018.pdf', '1147 fp_230927.pdf', '110 RM_230507.pdf', '1075 fp_230923.pdf', 'AA005317 fp_231127.pdf', '11 RM_230504.pdf', 'AA005676 fp_240108.pdf', '87 RM_230507.pdf', 'AA005301 fp_231127.pdf', '217 sh.pdf', '994 fp_230923.pdf', 'AA005545 fp_231227.pdf', 'AA005665 fp_240108.pdf', 'output_labels', '237 RM_230502.pdf', '467 fp_230726.pdf', '1015 fp_230923.pdf', '561 fp_230831.pdf', '708 fp_230907.pdf', 'AA005708 fp_240108.pdf', 'AA005547 fp_231227.pdf', '448 fp_230726.pdf', 'AA005492 fp_RM250509.pdf', '460 fp_230726.pdf', '279 sh.pdf', '794 fp_230908.pdf', '1207 fp_230923.pdf', '1188 fp_230927.pdf', 'AA005670 fp_240108.pdf', '889 fp_231018.pdf', '1097 fp_230923.pdf', 'AA005587 fp_240105.pdf', '841 fp_230908.pdf', '511 fp_230727.pdf', 'AA005585 fp_231227.pdf', '599 fp_230831.pdf', '988 fp_230921.pdf', '479 fp_230726.pdf', '80 RM_230507.pdf', 'AA005690 fp_240105.pdf', '85 RM_230507.pdf', '458 fp_230726.pdf', '933 fp_231019.pdf', '990 fp_230921.pdf', '134 RM_230507.pdf', 'AA005617 fp_240105.pdf', '1102 fp_230923.pdf', '463-1 fp_230726.pdf', '127 RM_240202.pdf', 'AA005532 fp_231227.pdf', '763 RM_240205.pdf', '433 fp_230726.pdf', '83 RM_230507.pdf', '855 fp_230908.pdf', '46 RM_230504.pdf', 'AA005656 fp_240108.pdf', '312 RM_230504.pdf', '695 fp_230904.pdf', '361 fp_230726.pdf', '683 fp_230904.pdf', '133 RM_240202.pdf', '1011 fp_230923.pdf', '1052 fp_230923.pdf', '1108 fp_230923.pdf', '517 fp_230727.pdf', '816 fp_230908.pdf', 'AA005604 fp_240105.pdf', 'AA005473 fp_231226.pdf', '301_RM_240205.pdf', '872 fp_231018.pdf', '492 fp_230727.pdf', 'AA005295 fp_231127.pdf', '847 fp_230908.pdf', 'AA005544 fp_231227.pdf', '186 RM_230504.pdf', '319 RM_240205.pdf', '987 fp_230921.pdf', '622 fp_230831.pdf', 'AA005505 fp_231226.pdf', '349 RM_250505.pdf', 'AA005556 fp_231227.pdf', '873 fp_231018.pdf', '109 RM_230507.pdf', '223 sh.pdf', '327 RM_230504.pdf', 'AA005625 fp_240105.pdf', '328_RM_240205.pdf', '662 fp_230904.pdf', '63 RM_230507.pdf', '616 fp_230831.pdf', '1151 fp_230927.pdf', 'AA005416 RM_250502.pdf', '489 fp_230726.pdf', 'AA005607 fp_240105.pdf', '515 fp_230727.pdf', '1155 fp_230927.pdf', 'AA005650 fp_240108.pdf', '190 RM_230505.pdf', '1203 fp_230923.pdf', '871 fp_231018.pdf', '242 RM_230502.pdf', '104 RM_230507.pdf', '1207 RM_240205.pdf', '29 RM_230504.pdf', 'AA005458 fp_231226.pdf', '70 RM_230507.pdf', '144_RM0611.pdf', '248 fp_RM250417.pdf', 'AA005559 fp_231227.pdf', '269 sh.pdf', 'AA005343 fp_231222.pdf', '75 RM_240202.pdf', '156 RM_230507.pdf', 'AA005685 fp_240108.pdf', '501 RM_240205.pdf', '737 fp_230907.pdf', '921 fp_231018.pdf', '30 RM_250620.pdf', '980 fp_231019.pdf', '287 RM_230504.pdf', '906 fp_231018.pdf', 'AA005491 fp_RM250509.pdf', '61 RM_230507.pdf', 'AA005369 fp_231222.pdf', '175 RM_230504.pdf', '114 RM_240202.pdf', 'AA005695 fp_240105.pdf', '295 sh_CS3.pdf', '519 fp_230727.pdf', 'AA005680 fp_240108.pdf', '1065 fp_230923.pdf', '49 RM_230504.pdf', '266 sh.pdf', '793 fp_230908.pdf', '1049 fp_230923.pdf', 'AA005644 fp_240108.pdf', '72 sh.pdf', '678 RM_240205.pdf', '1195 fp_230927.pdf', '442 fp_230726.pdf', '768 fp_230904.pdf', '454 fp_230726.pdf', '468 fp_230726.pdf', '280 sh.pdf', '919 fp_231018.pdf', '941 fp_231019.pdf', '1091 fp_230923.pdf', '628 fp_230831.pdf', '1047 fp_230923.pdf', '195 RM_230505.pdf', '1122 fp_230923.pdf', '689 fp_230904.pdf', '157 RM_250620.pdf', 'AA005352 fp_231222.pdf', '342 fp_RM250417.pdf', '572 fp_230831.pdf', 'AA005376 fp_231222.pdf', '309_RM_240205.pdf', 'AA005689 fp_240105.pdf', 'AA005640 fp_240108.pdf', '57 RM_230507.pdf', '1170 fp_230927.pdf', '673 fp_230904.pdf', '178 RM_230504.pdf', '322 RM_230504.pdf', '910 fp_231018.pdf', '496 fp_230727.pdf', 'AA005567 fp_231227.pdf', '747 fp_230907.pdf', '1173 fp_230927.pdf', '187 RM_230504.pdf', '1030 fp_230923.pdf', '767 fp_230904.pdf', '1114 fp_230923.pdf', '643 fp_230831.pdf', '383-1 fp_230726.pdf', '264 RM_230502.pdf', '986 fp_230921.pdf', '265 sh.pdf', '265 RM_240205.pdf', '376 fp_RM250509.pdf', '469 fp_230726.pdf', '635 fp_230831.pdf', 'AA005697 fp_240108.pdf', 'AA005474 fp_231226.pdf', '491 fp_230727.pdf', '666 RM_240205.pdf', '78 RM_230507.pdf', '1168 fp_230927.pdf', '633 fp_230831.pdf', '516 fp_230727.pdf', '973 fp_231019.pdf', 'AA005707 fp_240108.pdf', '1202 fp_230923.pdf', '1127 fp_230923.pdf', '98 RM_230507.pdf', '364 fp_RM250509.pdf', '1184 fp_230927.pdf', '512 fp_230727.pdf', '879 fp_231018.pdf', 'AA005293 fp_231127.pdf', '436 fp_230726.pdf', '313 RM_230504.pdf', 'AA005410 fp_240105.pdf', '499 fp_230727.pdf', '782 fp_230908.pdf', 'AA005709 fp_240108.pdf', 'AA005461 RM_240205.pdf', '1042 fp_230923.pdf', 'AA005360 fp_231222.pdf', '1104 fp_230923.pdf', 'AA005711 fp_240108.pdf', '131 RM_230507.pdf', '627 fp_230831.pdf', '836 fp_230908.pdf', 'AA005300 fp_231127.pdf', '301 sh_CS3.pdf', '961 fp_231019.pdf', '229 fp_230328.pdf', 'AA005299 fp_231127.pdf', 'AA005540 fp_231227.pdf', '234 sh.pdf', 'AA005355 fp_231222.pdf', '1113 fp_230923.pdf', '632 fp_230831.pdf', '315_RM_240205.pdf', '160 RM_230506.pdf', '77 RM_230507.pdf', '679 fp_230904.pdf', 'D:', 'AA005381 fp_231222.pdf', 'AA005717 fp_240108.pdf', '1139 fp_230923.pdf', '930 fp_231019.pdf', '102 RM_230507.pdf', 'AA005639 fp_240108.pdf', '621-1 fp_230831.pdf', 'AA005623 fp_240105.pdf', '539 fp_230727.pdf', '1073 fp_230923.pdf', 'AA005528 fp_231227.pdf', '22 RM_240202.pdf', '1116 RM_240205.pdf', '267 fp_RM250417.pdf', '1024 fp_230923.pdf', '1150 fp_230927.pdf', '421 fp_230726.pdf', '427 fp_230726.pdf', '283 RM_230504.pdf', '21 sh.pdf', '851 fp_230908.pdf', '269 RM_230502.pdf', '537 RM_240205.pdf', '240 RM_230502.pdf', '527 fp_230727.pdf', '174 RM_230504.pdf', 'AA005531 fp_231227.pdf', '681 fp_230904.pdf', '485 fp_230726.pdf', '1041 fp_230923.pdf', '880 fp_231018.pdf', '478 fp_230726.pdf', '263 sh.pdf', '886 fp_231018.pdf', 'AA005637 fp_240108.pdf', '439 fp_230726.pdf', '106 RM_230507.pdf', '674 fp_230904.pdf', 'AA005675 fp_240108.pdf', '419 fp_230726.pdf', '25 RM_230504.pdf', '1044 fp_230923.pdf', '760 fp_230907.pdf', 'AA005655 fp_240108.pdf', '339 RM_230504.pdf', '1023 fp_230923.pdf', '129 RM_230506.pdf', '981 fp_230921.pdf', '411 fp_230726.pdf', '743 fp_230907.pdf', 'AA005433 fp_240105.pdf', 'AA005318 fp_231127.pdf', '618 fp_230831.pdf', '286 RM_230504.pdf', '693 fp_230904.pdf', 'AA005379 fp_231222.pdf', 'AA005663 fp_240108.pdf', '686-1 fp_230904.pdf', 'AA005470 fp_231226.pdf', '904 fp_231018.pdf', '1019 fp_230923.pdf', '480 fp_230726.pdf', '1021 fp_230923.pdf', '119 RM_230507.pdf', 'AA005720 fp_240108.pdf', '180 RM_240205.pdf', 'AA005725 fp_240108.pdf', 'AA005721 fp_240108.pdf', '1020 fp_230923.pdf', 'AA005618 fp_240105.pdf', '770 fp_230904.pdf', '538 fp_230727.pdf', '1005 fp_230923.pdf', '607  fp_230831.pdf', '1163 fp_230927.pdf', '292 sh_CS3.pdf', '1098 RM_240205.pdf', 'AA005471 fp_231227.pdf', '536 fp_230727.pdf', '687 fp_230904.pdf', '67 RM_230507.pdf', '244 RM_230502.pdf', 'AA005361 fp_231222.pdf', '1022 fp_230923.pdf', 'AA005475 fp_231226.pdf', '742 fp_230907.pdf', '260 RM_230502.pdf', 'AA005701 RM_240307.pdf', '1035 fp_230923.pdf', '265 fp_RM250417.pdf', 'AA005660 fp_240108.pdf', '243 RM_230502.pdf', '256 RM_250620.pdf', '288 RM_240205.pdf', '214 RM_230504.pdf', 'AA005554 fp_231227.pdf', 'AA005674 fp_240108.pdf', '278 sh.pdf', '730 fp_230907.pdf', '717 fp_230907.pdf', '410 fp_230726.pdf', '147 RM_230507.pdf', '533 fp_230727.pdf', '859 fp_230908.pdf', '518 fp_230727.pdf', 'AA005627 fp_240105.pdf', '962 fp_231019.pdf', '509 fp_230727.pdf', '1134 fp_230923.pdf', '623 fp_230831.pdf', '1159 fp_230927.pdf', '355 fp_230726.pdf', '809 fp_230908.pdf', '56 RM_230507.pdf', '103 RM_230507.pdf', '362 fp_230726.pdf', '957 fp_231019.pdf', 'AA005543 fp_231227.pdf', '418 fp_230726.pdf', '1131 fp_230923.pdf', '1006 fp_230923.pdf', 'output_images', 'AA005466 fp_231226.pdf', 'AA005613 fp_240105.pdf', '1171 fp_230927.pdf', '967-1 fp_231019.pdf', 'AA005495 fp_231226.pdf', 'AA005486 fp_231227.pdf', '963 fp_231019.pdf', '336 RM_230504.pdf', '1172 fp_230927.pdf', '149 RM_230507.pdf', '586 fp_230831.pdf', '669 fp_230904.pdf', '284 fp_RM250417.pdf', '218 RM_230504.pdf', '1085 fp_230923.pdf', '764 RM_240205.pdf', 'AA005569 fp_231227.pdf', '1018 fp_230923.pdf', '900 fp_231018.pdf', '908 fp_231018.pdf', '158 RM_230507.pdf', '784 fp_230908.pdf', 'AA005358 fp_231222.pdf', '138 sh.pdf', '918 fp_231018.pdf', 'AA005478 fp_231226.pdf', '680 fp_230904.pdf', 'AA005718 fp_240108.pdf', '615 fp_230831.pdf', '705 fp_230904.pdf', '940 fp_231019.pdf', '307_RM_240205.pdf', '1074 fp_230923.pdf', '481 fp_230726.pdf', '960 fp_231019.pdf', 'AA005568 fp_231227.pdf', '1084 fp_230923.pdf', '1037 fp_230923.pdf', '126 RM_230506.pdf', '702 fp_230904.pdf', '113 RM_230507.pdf', '91 sh.pdf', '62 RM_230507.pdf', '1125 fp_230923.pdf', 'AA005302 fp_231127.pdf', '333_RM_240205.pdf', '1106 fp_230923.pdf', '926 fp_231018.pdf', 'AA005712 RM_240307.pdf', '155 RM_230507.pdf', '159 RM_230506.pdf', '387 fp_230726.pdf', 'AA005384 fp_231222.pdf', '250 sh.pdf', '815 fp_230908.pdf', '171 RM_230504.pdf', 'AA005340 fp_231222.pdf', '457 fp_230726.pdf', '534 fp_230727.pdf', '446 fp_230726.pdf', '1076 fp_230923.pdf', '648 fp_230831.pdf', 'AA005370 fp_231222.pdf', '766 fp_230904.pdf', '373 fp_230726.pdf', '389 fp_230726.pdf', '267 RM_230502.pdf', '838 fp_230908.pdf', '781 fp_230908.pdf', '929 fp_231019.pdf', 'AA005414 fp_RM250509.pdf', '1107 fp_230923.pdf', '369 RM_240205.pdf', '817 fp_230908.pdf', '50 RM_240202.pdf', '801 fp_230908.pdf', 'AA005323 fp_231127.pdf', 'AA005648 fp_240108.pdf', '596 fp_230831.pdf', '472 fp_230726.pdf', '645 fp_230831.pdf', 'AA005649 fp_240108.pdf', '325 RM_240205.pdf', '813 fp_230908.pdf', '1165 fp_230927.pdf', '1124 fp_230923.pdf', '121 RM_240202.pdf', '840 fp_230908.pdf', '647 fp_230831.pdf', 'AA005405 fp_RM250509.pdf', '810 fp_230908.pdf', '1158 fp_230927.pdf', '340 RM_230504.pdf', '818 fp_230908.pdf', '1167 fp_230927.pdf', '895 fp_231018.pdf', '490 fp_230726.pdf', '73 sh.pdf', 'AA005565 fp_231227.pdf', 'AA005581 fp_231227.pdf', '251 sh.pdf', '265 RM_230502.pdf', 'AA005584 fp_231227.pdf', '276 sh.pdf', '754 fp_230907.pdf', 'AA005345 fp_231222.pdf', 'AA005434 fp_240105.pdf', '208 sh.pdf', '452 fp_230726.pdf', '143 RM_230506.pdf', '546 fp_230831.pdf', 'AA005706 fp_240108.pdf', 'AA005703 fp_240108.pdf', 'AA005582 fp_231227.pdf', '1002 fp_230923.pdf', '474 fp_230726.pdf', 'AA005537 fp_231227.pdf', 'AA005395 fp_240105.pdf', '523 fp_230727.pdf', '1109 fp_230923.pdf', '390 fp_RM250509.pdf', '241 RM_230502.pdf', '413 fp_230726.pdf', '329 RM_240205.pdf', '1054 fp_230923.pdf', '589 fp_230831.pdf', '1128 fp_230923.pdf', '381 fp_230726.pdf', '1101 fp_230923.pdf', '712 fp_230907.pdf', '425 fp_230726.pdf', 'AA005686 fp_240108.pdf', 'AA005307 fp_231127.pdf', '401 fp_230726.pdf', '124_RM0611.pdf', '210 sh.pdf', '741 fp_230907.pdf', '709 fp_230907.pdf', '800 fp_230908.pdf', '1096 fp_230923.pdf', 'AA005359 fp_231222.pdf', 'AA005503 fp_231226.pdf', '1063 fp_230923.pdf', '997 fp_230923.pdf', '571 RM_240205.pdf', '151 RM_230507.pdf', '587 fp_230831.pdf', '731 fp_230907.pdf', '53 RM_230504.pdf', '911 fp_231018.pdf', '1136 fp_230923.pdf', '902 fp_231018.pdf', '804 fp_230908.pdf', '1012 fp_230923.pdf', 'AA005561 fp_231227.pdf', '203 RM_240205.pdf', 'AA005372 fp_231222.pdf', 'AA005661 fp_240108.pdf', '1105 fp_230923.pdf', '267 RM_240206.pdf', 'AA005439 fp_231226.pdf', 'AA005572 fp_231227.pdf', '1100 fp_230923.pdf', '505 fp_230727.pdf', '732 fp_230907.pdf', 'AA005327 fp_RM250509.pdf', '972 fp_231019.pdf', '917 fp_231018.pdf', '396 fp_230726.pdf', '525 fp_230727.pdf', '580 fp_230831.pdf', '299_RM_240205.pdf', 'AA005325 fp_231127.pdf', '290 RM_230504.pdf', '1153 fp_230927.pdf', '189 RM_250620.pdf', '714 fp_230907.pdf', '430 fp_230726.pdf', '797 fp_230908.pdf', 'AA005608 fp_240105.pdf', '641-1 fp_230831.pdf', 'AA005518 fp_231226.pdf', '805 fp_230908.pdf', 'AA005664 fp_240108.pdf', 'AA005383 fp_231222.pdf', '1032 fp_230923.pdf', '697 fp_230904.pdf', '634 fp_230831.pdf', '294 sh_CS3.pdf', 'AA005448 fp_231226.pdf', '466 fp_230726.pdf', '856 fp_230908.pdf', '582 fp_230831.pdf', '368 fp_RM250509.pdf', 'AA005498 fp_231226.pdf', '521 fp_230727.pdf', '982 fp_230921.pdf', '267 sh.pdf', '096 RM_250502.pdf', '1121 fp_230923.pdf', '19 sh.pdf', '1148 fp_230927.pdf', '592 fp_230831.pdf', '567 fp_230831.pdf', '722 fp_230907.pdf', 'AA005288 fp_231127.pdf', '168 sh.pdf', '329 RM_230504.pdf', 'AA005490 fp_RM250509.pdf', 'AA005417 fp_240105.pdf', '1192 fp_230927.pdf', '252 fp_RM250417.pdf', '654-1 fp_230904.pdf', '18 sh.pdf', '574 fp_230831.pdf', '311 RM_230504.pdf', '473 fp_230726.pdf', '646 RM_240205.pdf', '1157 fp_230927.pdf', '548 fp_230831.pdf', '778 fp_230904.pdf', 'AA005375 fp_231222.pdf', '893 fp_231018.pdf', 'AA005557 fp_231227.pdf', '783 fp_230908.pdf', '541 fp_230831.pdf', 'AA005455 fp_231226.pdf', '1062 fp_230923.pdf', '1034 fp_230923.pdf', '691 fp_230904.pdf', 'AA005314 fp_231127.pdf', '1205 fp_230923.pdf', '64 sh.pdf', '606 fp_230831.pdf', '819 fp_230908.pdf', '1118 RM_240205.pdf', '358 fp_230726.pdf', 'AA005580 fp_231227.pdf', '721 fp_230907.pdf', 'AA005319 fp_231127.pdf', '107 RM_230507.pdf', '833 fp_230908.pdf', '931 fp_231019.pdf', 'AA005391 fp_240105.pdf', 'AA005494 fp_RM250509.pdf', 'AA005515 fp_231226.pdf', '412 fp_230726.pdf', '1050 fp_230923.pdf', '500 RM_240205.pdf', '1017 fp_230923.pdf', 'AA005571 fp_231227.pdf', '936 fp_231019.pdf', '177 RM_230504.pdf', 'AA005716 fp_240108.pdf', '544 fp_230831.pdf', 'AA005614 fp_240105.pdf', '368 fp_230726.pdf', '965 fp_231019.pdf', '642 fp_230831.pdf', 'AA005633 fp_240105.pdf', '745 fp_230907.pdf', '579 fp_230831.pdf', '41 RM_230504.pdf', 'AA005423 fp_240105.pdf', 'AA005421 fp_240105.pdf', '1026 fp_230923.pdf', 'AA005289 fp_231127.pdf', '734 fp_230907.pdf', '1051 fp_230923.pdf', '578 fp_230831.pdf', '344 fp_RM250417.pdf', 'AA005520 fp_231226.pdf', '48 RM_230504.pdf', '372 fp_RM250509.pdf', 'AA005533 fp_231227.pdf', '566 fp_230831.pdf', '370 fp_230726.pdf', '60 RM_230507.pdf', '1208 fp_230923.pdf', '68 RM_230507.pdf', '455 fp_230726.pdf', '162 RM_230506.pdf', 'AA005629 fp_240105.pdf', '748 fp_230907.pdf', '827-1 fp_230908.pdf', 'AA005642 fp_RM250509.pdf', '192 RM_230505.pdf', '176 RM_230504.pdf', '423 fp_230726.pdf', '115 sh.pdf', '308_RM_240205.pdf', 'AA005386 fp_231222.pdf', '325_RM_240205.pdf', 'AA005304 fp_231127.pdf', '1003 fp_230923.pdf', '520 fp_230727.pdf', '979 fp_231019.pdf', 'AA005354 fp_231222.pdf', '624 fp_230831.pdf', '773 fp_230904.pdf', 'AA005349 fp_231222.pdf', '227 sh .pdf', '594 fp_230831.pdf', '1135 RM_240205.pdf', '380 fp_230726.pdf', '238 RM_230502.pdf', '326 RM_230504.pdf', 'AA005570 fp_231227.pdf', '913 fp_231018.pdf', '845 fp_230908.pdf', '408 fp_230726.pdf', 'AA005477 fp_231226.pdf', 'AA005606 fp_240105.pdf', '324_RM_240205.pdf', '688 fp_230904.pdf', '167 sh.pdf', '137 sh.pdf', 'AA005447 fp_231226.pdf', 'AA005367 fp_231222.pdf', '166 fp_RM250417.pdf', '437 fp_230726.pdf', '277 sh.pdf', 'AA005574 fp_231227.pdf', '34 RM_230504.pdf', '398 fp_230726.pdf', '828 fp_230908.pdf', '281 RM_230504.pdf', 'AA005418 fp_240105.pdf', '1198 fp_230927.pdf', '424 fp_230726.pdf', '415 fp_230726.pdf', 'AA005472 fp_231226.pdf', '334_RM_240205.pdf', '719 fp_230907.pdf', '583 fp_230831.pdf', '867 fp_230908.pdf', '271 sh.pdf', '359 fp_230726.pdf', '1060 RM_240205.pdf', '914 fp_231018.pdf', '476 fp_230726.pdf', '697 RM_240205.pdf', '145 RM_230506.pdf', '570 fp_230831.pdf', '703 fp_230904.pdf', '903 fp_231018.pdf', '268 RM_230502.pdf', 'AA005294 fp_231127.pdf', 'AA005374 fp_231222.pdf', '1013 fp_230923.pdf', '1004 fp_230923.pdf', '834 fp_230908.pdf', '975 fp_231019.pdf', '666 fp_230904.pdf', '321 RM_230504.pdf', '853 fp_230908.pdf', '1055 fp_230923.pdf', 'AA005398 fp_240105.pdf', '117 RM_230507.pdf', '86 RM_240202.pdf', '698 fp_230904.pdf', '540 fp_230727.pdf', '1137 fp_230923.pdf', '551 fp_230831.pdf', 'AA005671 fp_240108.pdf', '968 fp_231019.pdf', '553 fp_230831.pdf', 'AA005329 fp_231127.pdf', 'AA005353 fp_231222.pdf', 'AA005457 fp_231226.pdf', '289 RM_240205.pdf', '173 RM_230504.pdf', '554 fp_230831.pdf', 'AA005313 fp_231127.pdf', '877-1 fp_231018.pdf', '261 RM_230502.pdf', '832 fp_230908.pdf', '854 fp_230908.pdf', 'AA005479 fp_RM250509.pdf', '600 fp_230831.pdf', 'AA005573 fp_231227.pdf', '896 fp_231018.pdf', '631 fp_230831.pdf', '976 fp_231019.pdf', '164 RM_230506.pdf', 'AA005705 fp_240108.pdf', 'AA005322 fp_231127.pdf', 'AA005624 fp_240105.pdf', '1164 fp_230927.pdf', 'AA005562 fp_231227.pdf', '153 RM_230507.pdf', 'AA005380 fp_231222.pdf', '1191 fp_230927.pdf', '1053 fp_230923.pdf', 'AA005682 fp_240108.pdf', '756 fp_230907.pdf', '28 RM_230504.pdf', '253 RM_230502.pdf', '1008 fp_230923.pdf', 'AA005552 fp_231227.pdf', 'AA005403 fp_240105.pdf', '1111 fp_230923.pdf', 'AA005351 RM_240205.pdf', '246 RM_230502.pdf', '392-1 fp_230726.pdf', '42 RM_230504.pdf', 'AA005291 fp_231127.pdf', '744 fp_230907.pdf', '40 RM_230504.pdf', '897 fp_231018.pdf', '577 fp_230831.pdf', '661 fp_230904.pdf', '320_RM_240205.pdf', 'AA005371 fp_231222.pdf', '58 sh.pdf', '588 fp_230831.pdf', '1197 fp_230927.pdf', 'AA005305 fp_231127.pdf', 'AA005446 fp_231226.pdf', '441 fp_230726.pdf', '388 RM_240205.pdf', '675 fp_230904.pdf', 'AA005501 fp_231226.pdf', '835 fp_230908.pdf', '216 RM_230504.pdf', '1201 fp_230923.pdf', 'AA005311 fp_231127.pdf', 'AA005350 fp_231222.pdf', '678 fp_230904.pdf', '1120 fp_230923.pdf', '273 sh.pdf', 'D:\\\\程式\\\\GearOCR_Dataset', 'AA005331 fp_231128.pdf', '165 RM_230506.pdf', '944 fp_231019.pdf', '112 RM_230507.pdf', '706 fp_230907.pdf', '348 fp_230726.pdf', '724 fp_230907.pdf', '148 RM_230507.pdf', '772 fp_230904.pdf', 'AA005635 fp_240105.pdf', '602 fp_230831.pdf', 'AA005605 fp_240105.pdf', '357 fp_230726.pdf', '346 fp_230726.pdf', 'AA005632 fp_240105.pdf', '744 RM_240205.pdf', '249 RM_230502.pdf', '1115 fp_230923.pdf', '31 RM_230504.pdf', '786 fp_230908.pdf', '1093 fp_230923.pdf', 'AA005508 fp_231226.pdf', 'AA005425 fp_240105.pdf', '353 fp_230726.pdf', 'AA005698 fp_240108.pdf', '684 fp_230904.pdf', '236 RM_230502.pdf', '1077 fp_230923.pdf', '221 sh.pdf', '825 fp_230908.pdf', '450 fp_230726.pdf', 'AA005415 fp_240105.pdf', '958 fp_231019.pdf', 'AA005526 fp_231226.pdf', '947 fp_231019.pdf', 'AA005702 fp_240108.pdf', '431 fp_230726.pdf', '991 fp_230921.pdf', '384 fp_230726.pdf', '888 fp_231018.pdf', '245 RM_230504.pdf', '1119 fp_230923.pdf', 'AA005530 fp_231227.pdf', '774 fp_230904.pdf', '555-1 fp_230831.pdf', '169 sh.pdf', '328 RM_230504.pdf', '750 fp_230907.pdf', 'AA005673 fp_240108.pdf', '340_RM_240205.pdf', 'AA005593 fp_RM250509.pdf', '752 RM_240205.pdf', '179 RM_230504.pdf', '204 RM_230504.pdf', 'AA005500 fp_231226.pdf', '953 fp_231019.pdf', '38 RM_230504.pdf', 'AA005385 fp_231222.pdf', '802 fp_230908.pdf', '1057 fp_230923.pdf', '416 fp_230726.pdf', 'AA005666 fp_240108.pdf', '977 fp_231019.pdf', '831-1 fp_230908.pdf', '360 fp_230726.pdf', '951 fp_231019.pdf', '386 fp_230726.pdf', 'AA005424 fp_240106.pdf', 'AA005722 fp_240108.pdf', '461 fp_230726.pdf', '581 fp_230831.pdf', 'AA005615 fp_240105.pdf', 'AA005549 fp_231227.pdf', 'AA005290 fp_231127.pdf', '139 fp_220111.pdf', 'AA005599 fp_240105.pdf', 'AA005315 fp_231127.pdf', '849 fp_230908.pdf', '498 fp_230727.pdf', 'AA005691 fp_240105.pdf', 'AA005484 fp_231226.pdf', '1056 fp_230923.pdf', '1156 fp_230927.pdf', '1185 fp_230927.pdf', 'AA005546 fp_231227.pdf', '1180 fp_230927.pdf', '407 fp_230726.pdf', '331_RM_240205.pdf', '865 fp_230908.pdf', '775 fp_230904.pdf', '300 sh_CS3.pdf', '445 fp_230726.pdf', '76 RM_230507.pdf', '850 fp_230908.pdf', '27 RM_230504.pdf', '758 fp_230907.pdf', 'AA005514 fp_231226.pdf', '1082 fp_230923.pdf', 'AA005396 fp_240105.pdf', '959 fp_231019.pdf', '337 RM_230504.pdf', '700 fp_230904.pdf', 'AA005429 fp_240105.pdf', 'AA005341 fp_231222.pdf', 'AA005502 fp_231226.pdf', '332 RM_240205.pdf', 'AA005612 fp_240105.pdf', '899 fp_231018.pdf', 'cropmap.json', '231 sh.pdf', '494 fp_230727.pdf', '163 RM_230506.pdf', '934 fp_231019.pdf', 'AA005595 fp_240105.pdf', '950 fp_231019.pdf', '1206 fp_230923.pdf', '652 fp_230904.pdf', '1129 fp_230923.pdf', '1095 fp_230923.pdf', '923 fp_231018.pdf', '1066 fp_230923.pdf', '54 RM_230504.pdf', '222 RM_240205.pdf', '435 fp_230726.pdf', '1090 fp_230923.pdf', 'AA005402 fp_RM250509.pdf', '275 fp_230328.pdf', '1177 fp_230927.pdf', 'AA005726 fp_240108.pdf', '1027 fp_230923.pdf', '803 fp_230908.pdf', 'AA005583 fp_231227.pdf', 'AA005622 fp_240105.pdf', 'AA005298 fp_231127.pdf', '649 fp_230831.pdf', '132 RM_230507.pdf', '459 fp_230726.pdf', '668 fp_230904.pdf', '352 RM_240205.pdf', '23 RM_240202.pdf', '233 RM_230502.pdf', '1016 fp_230923.pdf', '65 sh.pdf', '1181 fp_230927.pdf', '1141 fp_230923.pdf', '343 fp_230726.pdf', 'AA005413 fp_240105.pdf', '978 fp_231019.pdf', '230 sh.pdf', '920 fp_231018.pdf', '844 RM_240205.pdf', '901 fp_231018.pdf', '1080 fp_230923.pdf', '542 fp_230831.pdf', 'AA005303 fp_231127.pdf', '925 fp_231018.pdf', '1209 RM_240205.pdf', '543 fp_230831.pdf', 'AA005710 fp_240108.pdf', 'AA005462 fp_231226.pdf', '1110 fp_230923.pdf', '720 fp_230907.pdf', 'AA005382 fp_231222.pdf', '371 RM_240205.pdf', '10 RM_240202.pdf', '984 fp_230921.pdf', '449 fp_230726.pdf', '626-1 fp_230831.pdf', '638 fp_230831.pdf', 'AA005598 fp_240106.pdf', '573 fp_230831.pdf', '17 RM_240202.pdf', 'AA005427 fp_240105.pdf', '333 RM_230504.pdf', '1140 fp_230923.pdf', '366 fp_230726.pdf', 'AA005330 fp_RM250509.pdf', 'AA005451 fp_231226.pdf', 'AA005337 fp_231222.pdf', '790 fp_230908.pdf', '1118 fp_230923.pdf', '513 fp_230727.pdf', '575-1 fp_230831.pdf', '655 fp_230904.pdf', '909 fp_231018.pdf', '140 RM_230506.pdf', '759 fp_230907.pdf', '293 RM_230504.pdf', '619 fp_230831.pdf', 'AA005596 fp_240105.pdf', 'AA005426 fp_240105.pdf', '1079 fp_230923.pdf', '857 fp_230908.pdf', '306_RM_240205.pdf', '912 fp_231018.pdf', '51 RM_230504.pdf', 'AA005428 fp_240105.pdf', '201 RM_230505.pdf', '653 fp_230904.pdf', '562 fp_230831.pdf', '522 fp_230727.pdf', '406 fp_RM250509.pdf', '66 RM_230507.pdf', '224 fp_230223.pdf', '206 RM_230504.pdf', '629 fp_230831.pdf', 'AA005392 fp_240105.pdf', '1094 fp_230923.pdf', '13 RM_230504.pdf', '550 fp_230831.pdf', '377 fp_RM250509.pdf']\n"
          ]
        }
      ]
    },
    {
      "cell_type": "markdown",
      "source": [],
      "metadata": {
        "id": "oB0bBohCnHZt"
      }
    }
  ]
}